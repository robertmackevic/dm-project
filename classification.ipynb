{
 "cells": [
  {
   "cell_type": "code",
   "execution_count": 1,
   "metadata": {
    "vscode": {
     "languageId": "r"
    }
   },
   "outputs": [
    {
     "name": "stderr",
     "output_type": "stream",
     "text": [
      "Warning message:\n",
      "\"package 'randomForest' was built under R version 4.3.3\"\n",
      "randomForest 4.7-1.2\n",
      "\n",
      "Type rfNews() to see new features/changes/bug fixes.\n",
      "\n",
      "\n",
      "Attaching package: 'dplyr'\n",
      "\n",
      "\n",
      "The following object is masked from 'package:randomForest':\n",
      "\n",
      "    combine\n",
      "\n",
      "\n",
      "The following objects are masked from 'package:stats':\n",
      "\n",
      "    filter, lag\n",
      "\n",
      "\n",
      "The following objects are masked from 'package:base':\n",
      "\n",
      "    intersect, setdiff, setequal, union\n",
      "\n",
      "\n",
      "Warning message:\n",
      "\"package 'caret' was built under R version 4.3.3\"\n",
      "Loading required package: ggplot2\n",
      "\n",
      "Warning message:\n",
      "\"package 'ggplot2' was built under R version 4.3.3\"\n",
      "\n",
      "Attaching package: 'ggplot2'\n",
      "\n",
      "\n",
      "The following object is masked from 'package:randomForest':\n",
      "\n",
      "    margin\n",
      "\n",
      "\n",
      "Loading required package: lattice\n",
      "\n",
      "Warning message:\n",
      "\"package 'vip' was built under R version 4.3.3\"\n",
      "\n",
      "Attaching package: 'vip'\n",
      "\n",
      "\n",
      "The following object is masked from 'package:utils':\n",
      "\n",
      "    vi\n",
      "\n",
      "\n"
     ]
    },
    {
     "data": {
      "text/html": [
       "<table class=\"dataframe\">\n",
       "<caption>A tibble: 6 × 25</caption>\n",
       "<thead>\n",
       "\t<tr><th scope=col>Age</th><th scope=col>Gender</th><th scope=col>Experience</th><th scope=col>Industry</th><th scope=col>FamilyStatus</th><th scope=col>Location</th><th scope=col>ReducedPromotion</th><th scope=col>CommuteTimeDiff</th><th scope=col>WorkTimeDiff</th><th scope=col>HouseworkTimeDiff</th><th scope=col>⋯</th><th scope=col>Motivation</th><th scope=col>HomeEnvironment</th><th scope=col>Wellbeing</th><th scope=col>MentalHealth</th><th scope=col>PhysicalActivity</th><th scope=col>Sociability</th><th scope=col>ManagingRole</th><th scope=col>RemoteWorkExtent</th><th scope=col>RemoteWorkSupport</th><th scope=col>Productivity</th></tr>\n",
       "\t<tr><th scope=col>&lt;dbl[,1]&gt;</th><th scope=col>&lt;fct&gt;</th><th scope=col>&lt;dbl[,1]&gt;</th><th scope=col>&lt;fct&gt;</th><th scope=col>&lt;fct&gt;</th><th scope=col>&lt;fct&gt;</th><th scope=col>&lt;dbl[,1]&gt;</th><th scope=col>&lt;dbl[,1]&gt;</th><th scope=col>&lt;dbl[,1]&gt;</th><th scope=col>&lt;dbl[,1]&gt;</th><th scope=col>⋯</th><th scope=col>&lt;dbl[,1]&gt;</th><th scope=col>&lt;dbl[,1]&gt;</th><th scope=col>&lt;dbl[,1]&gt;</th><th scope=col>&lt;fct&gt;</th><th scope=col>&lt;dbl[,1]&gt;</th><th scope=col>&lt;dbl[,1]&gt;</th><th scope=col>&lt;fct&gt;</th><th scope=col>&lt;dbl[,1]&gt;</th><th scope=col>&lt;dbl[,1]&gt;</th><th scope=col>&lt;dbl[,1]&gt;</th></tr>\n",
       "</thead>\n",
       "<tbody>\n",
       "\t<tr><td> 0.25489190</td><td>male  </td><td> 0.9403261</td><td>other_services                   </td><td>couple_with_dependent_children           </td><td>metro   </td><td>-1.1175702</td><td>-0.61964823</td><td> 1.3719844</td><td>-0.2207096</td><td>⋯</td><td>-0.166609</td><td> 0.01176681</td><td> 1.2139968</td><td>3</td><td> 0.7859694</td><td>-0.5502987</td><td>no </td><td> 0.004252265</td><td> 1.0535760</td><td> 1.0775389</td></tr>\n",
       "\t<tr><td> 0.67971175</td><td>male  </td><td> 0.9403261</td><td>construction                     </td><td>couple_with_no_dependent_children        </td><td>metro   </td><td> 0.1261208</td><td>-0.26621209</td><td> 1.3719844</td><td> 1.5534631</td><td>⋯</td><td>-0.166609</td><td> 0.01176681</td><td>-0.1433854</td><td>2</td><td>-0.5255189</td><td>-0.5502987</td><td>no </td><td>-1.203391119</td><td>-0.5638055</td><td> 1.0775389</td></tr>\n",
       "\t<tr><td> 0.08496397</td><td>female</td><td>-2.0368490</td><td>financial_and_insurance          </td><td>single_person                            </td><td>metro   </td><td>-1.1175702</td><td>-0.61964823</td><td>-0.2026512</td><td> 0.6663767</td><td>⋯</td><td> 1.258600</td><td> 1.40417235</td><td>-0.1433854</td><td>3</td><td>-0.5255189</td><td>-1.9432116</td><td>no </td><td> 1.211895650</td><td> 1.0535760</td><td>-0.4822014</td></tr>\n",
       "\t<tr><td> 1.44438746</td><td>female</td><td>-0.5482615</td><td>health_care_and_social_assistance</td><td>one_parent_family_with_dependent_children</td><td>regional</td><td>-1.1175702</td><td> 0.79409634</td><td>-0.2026512</td><td>-1.9948822</td><td>⋯</td><td>-1.591818</td><td>-1.38063873</td><td>-1.5007676</td><td>3</td><td> 0.7859694</td><td> 0.8426142</td><td>yes</td><td> 0.004252265</td><td>-0.5638055</td><td> 1.0775389</td></tr>\n",
       "\t<tr><td>-0.50978381</td><td>male  </td><td>-0.5482615</td><td>manufacturing                    </td><td>couple_with_dependent_children           </td><td>metro   </td><td> 0.1261208</td><td> 0.08722406</td><td>-0.2026512</td><td> 1.5534631</td><td>⋯</td><td>-0.166609</td><td> 0.01176681</td><td>-0.1433854</td><td>2</td><td>-0.5255189</td><td>-0.5502987</td><td>no </td><td> 0.004252265</td><td>-0.5638055</td><td>-0.4822014</td></tr>\n",
       "\t<tr><td> 0.50978381</td><td>male  </td><td> 0.9403261</td><td>public_administration_and_safety </td><td>couple_with_dependent_children           </td><td>metro   </td><td>-1.1175702</td><td> 0.08722406</td><td>-0.2026512</td><td>-0.2207096</td><td>⋯</td><td> 1.258600</td><td> 0.01176681</td><td>-0.1433854</td><td>3</td><td> 0.7859694</td><td> 0.8426142</td><td>yes</td><td> 1.211895650</td><td>-0.5638055</td><td>-0.4822014</td></tr>\n",
       "</tbody>\n",
       "</table>\n"
      ],
      "text/latex": [
       "A tibble: 6 × 25\n",
       "\\begin{tabular}{lllllllllllllllllllll}\n",
       " Age & Gender & Experience & Industry & FamilyStatus & Location & ReducedPromotion & CommuteTimeDiff & WorkTimeDiff & HouseworkTimeDiff & ⋯ & Motivation & HomeEnvironment & Wellbeing & MentalHealth & PhysicalActivity & Sociability & ManagingRole & RemoteWorkExtent & RemoteWorkSupport & Productivity\\\\\n",
       " <dbl{[},1{]}> & <fct> & <dbl{[},1{]}> & <fct> & <fct> & <fct> & <dbl{[},1{]}> & <dbl{[},1{]}> & <dbl{[},1{]}> & <dbl{[},1{]}> & ⋯ & <dbl{[},1{]}> & <dbl{[},1{]}> & <dbl{[},1{]}> & <fct> & <dbl{[},1{]}> & <dbl{[},1{]}> & <fct> & <dbl{[},1{]}> & <dbl{[},1{]}> & <dbl{[},1{]}>\\\\\n",
       "\\hline\n",
       "\t  0.25489190 & male   &  0.9403261 & other\\_services                    & couple\\_with\\_dependent\\_children            & metro    & -1.1175702 & -0.61964823 &  1.3719844 & -0.2207096 & ⋯ & -0.166609 &  0.01176681 &  1.2139968 & 3 &  0.7859694 & -0.5502987 & no  &  0.004252265 &  1.0535760 &  1.0775389\\\\\n",
       "\t  0.67971175 & male   &  0.9403261 & construction                      & couple\\_with\\_no\\_dependent\\_children         & metro    &  0.1261208 & -0.26621209 &  1.3719844 &  1.5534631 & ⋯ & -0.166609 &  0.01176681 & -0.1433854 & 2 & -0.5255189 & -0.5502987 & no  & -1.203391119 & -0.5638055 &  1.0775389\\\\\n",
       "\t  0.08496397 & female & -2.0368490 & financial\\_and\\_insurance           & single\\_person                             & metro    & -1.1175702 & -0.61964823 & -0.2026512 &  0.6663767 & ⋯ &  1.258600 &  1.40417235 & -0.1433854 & 3 & -0.5255189 & -1.9432116 & no  &  1.211895650 &  1.0535760 & -0.4822014\\\\\n",
       "\t  1.44438746 & female & -0.5482615 & health\\_care\\_and\\_social\\_assistance & one\\_parent\\_family\\_with\\_dependent\\_children & regional & -1.1175702 &  0.79409634 & -0.2026512 & -1.9948822 & ⋯ & -1.591818 & -1.38063873 & -1.5007676 & 3 &  0.7859694 &  0.8426142 & yes &  0.004252265 & -0.5638055 &  1.0775389\\\\\n",
       "\t -0.50978381 & male   & -0.5482615 & manufacturing                     & couple\\_with\\_dependent\\_children            & metro    &  0.1261208 &  0.08722406 & -0.2026512 &  1.5534631 & ⋯ & -0.166609 &  0.01176681 & -0.1433854 & 2 & -0.5255189 & -0.5502987 & no  &  0.004252265 & -0.5638055 & -0.4822014\\\\\n",
       "\t  0.50978381 & male   &  0.9403261 & public\\_administration\\_and\\_safety  & couple\\_with\\_dependent\\_children            & metro    & -1.1175702 &  0.08722406 & -0.2026512 & -0.2207096 & ⋯ &  1.258600 &  0.01176681 & -0.1433854 & 3 &  0.7859694 &  0.8426142 & yes &  1.211895650 & -0.5638055 & -0.4822014\\\\\n",
       "\\end{tabular}\n"
      ],
      "text/markdown": [
       "\n",
       "A tibble: 6 × 25\n",
       "\n",
       "| Age &lt;dbl[,1]&gt; | Gender &lt;fct&gt; | Experience &lt;dbl[,1]&gt; | Industry &lt;fct&gt; | FamilyStatus &lt;fct&gt; | Location &lt;fct&gt; | ReducedPromotion &lt;dbl[,1]&gt; | CommuteTimeDiff &lt;dbl[,1]&gt; | WorkTimeDiff &lt;dbl[,1]&gt; | HouseworkTimeDiff &lt;dbl[,1]&gt; | ⋯ ⋯ | Motivation &lt;dbl[,1]&gt; | HomeEnvironment &lt;dbl[,1]&gt; | Wellbeing &lt;dbl[,1]&gt; | MentalHealth &lt;fct&gt; | PhysicalActivity &lt;dbl[,1]&gt; | Sociability &lt;dbl[,1]&gt; | ManagingRole &lt;fct&gt; | RemoteWorkExtent &lt;dbl[,1]&gt; | RemoteWorkSupport &lt;dbl[,1]&gt; | Productivity &lt;dbl[,1]&gt; |\n",
       "|---|---|---|---|---|---|---|---|---|---|---|---|---|---|---|---|---|---|---|---|---|\n",
       "|  0.25489190 | male   |  0.9403261 | other_services                    | couple_with_dependent_children            | metro    | -1.1175702 | -0.61964823 |  1.3719844 | -0.2207096 | ⋯ | -0.166609 |  0.01176681 |  1.2139968 | 3 |  0.7859694 | -0.5502987 | no  |  0.004252265 |  1.0535760 |  1.0775389 |\n",
       "|  0.67971175 | male   |  0.9403261 | construction                      | couple_with_no_dependent_children         | metro    |  0.1261208 | -0.26621209 |  1.3719844 |  1.5534631 | ⋯ | -0.166609 |  0.01176681 | -0.1433854 | 2 | -0.5255189 | -0.5502987 | no  | -1.203391119 | -0.5638055 |  1.0775389 |\n",
       "|  0.08496397 | female | -2.0368490 | financial_and_insurance           | single_person                             | metro    | -1.1175702 | -0.61964823 | -0.2026512 |  0.6663767 | ⋯ |  1.258600 |  1.40417235 | -0.1433854 | 3 | -0.5255189 | -1.9432116 | no  |  1.211895650 |  1.0535760 | -0.4822014 |\n",
       "|  1.44438746 | female | -0.5482615 | health_care_and_social_assistance | one_parent_family_with_dependent_children | regional | -1.1175702 |  0.79409634 | -0.2026512 | -1.9948822 | ⋯ | -1.591818 | -1.38063873 | -1.5007676 | 3 |  0.7859694 |  0.8426142 | yes |  0.004252265 | -0.5638055 |  1.0775389 |\n",
       "| -0.50978381 | male   | -0.5482615 | manufacturing                     | couple_with_dependent_children            | metro    |  0.1261208 |  0.08722406 | -0.2026512 |  1.5534631 | ⋯ | -0.166609 |  0.01176681 | -0.1433854 | 2 | -0.5255189 | -0.5502987 | no  |  0.004252265 | -0.5638055 | -0.4822014 |\n",
       "|  0.50978381 | male   |  0.9403261 | public_administration_and_safety  | couple_with_dependent_children            | metro    | -1.1175702 |  0.08722406 | -0.2026512 | -0.2207096 | ⋯ |  1.258600 |  0.01176681 | -0.1433854 | 3 |  0.7859694 |  0.8426142 | yes |  1.211895650 | -0.5638055 | -0.4822014 |\n",
       "\n"
      ],
      "text/plain": [
       "  Age         Gender Experience Industry                         \n",
       "1  0.25489190 male    0.9403261 other_services                   \n",
       "2  0.67971175 male    0.9403261 construction                     \n",
       "3  0.08496397 female -2.0368490 financial_and_insurance          \n",
       "4  1.44438746 female -0.5482615 health_care_and_social_assistance\n",
       "5 -0.50978381 male   -0.5482615 manufacturing                    \n",
       "6  0.50978381 male    0.9403261 public_administration_and_safety \n",
       "  FamilyStatus                              Location ReducedPromotion\n",
       "1 couple_with_dependent_children            metro    -1.1175702      \n",
       "2 couple_with_no_dependent_children         metro     0.1261208      \n",
       "3 single_person                             metro    -1.1175702      \n",
       "4 one_parent_family_with_dependent_children regional -1.1175702      \n",
       "5 couple_with_dependent_children            metro     0.1261208      \n",
       "6 couple_with_dependent_children            metro    -1.1175702      \n",
       "  CommuteTimeDiff WorkTimeDiff HouseworkTimeDiff ⋯ Motivation HomeEnvironment\n",
       "1 -0.61964823      1.3719844   -0.2207096        ⋯ -0.166609   0.01176681    \n",
       "2 -0.26621209      1.3719844    1.5534631        ⋯ -0.166609   0.01176681    \n",
       "3 -0.61964823     -0.2026512    0.6663767        ⋯  1.258600   1.40417235    \n",
       "4  0.79409634     -0.2026512   -1.9948822        ⋯ -1.591818  -1.38063873    \n",
       "5  0.08722406     -0.2026512    1.5534631        ⋯ -0.166609   0.01176681    \n",
       "6  0.08722406     -0.2026512   -0.2207096        ⋯  1.258600   0.01176681    \n",
       "  Wellbeing  MentalHealth PhysicalActivity Sociability ManagingRole\n",
       "1  1.2139968 3             0.7859694       -0.5502987  no          \n",
       "2 -0.1433854 2            -0.5255189       -0.5502987  no          \n",
       "3 -0.1433854 3            -0.5255189       -1.9432116  no          \n",
       "4 -1.5007676 3             0.7859694        0.8426142  yes         \n",
       "5 -0.1433854 2            -0.5255189       -0.5502987  no          \n",
       "6 -0.1433854 3             0.7859694        0.8426142  yes         \n",
       "  RemoteWorkExtent RemoteWorkSupport Productivity\n",
       "1  0.004252265      1.0535760         1.0775389  \n",
       "2 -1.203391119     -0.5638055         1.0775389  \n",
       "3  1.211895650      1.0535760        -0.4822014  \n",
       "4  0.004252265     -0.5638055         1.0775389  \n",
       "5  0.004252265     -0.5638055        -0.4822014  \n",
       "6  1.211895650     -0.5638055        -0.4822014  "
      ]
     },
     "metadata": {},
     "output_type": "display_data"
    },
    {
     "data": {
      "text/html": [
       "<style>\n",
       ".list-inline {list-style: none; margin:0; padding: 0}\n",
       ".list-inline>li {display: inline-block}\n",
       ".list-inline>li:not(:last-child)::after {content: \"\\00b7\"; padding: 0 .5ex}\n",
       "</style>\n",
       "<ol class=list-inline><li>1420</li><li>25</li></ol>\n"
      ],
      "text/latex": [
       "\\begin{enumerate*}\n",
       "\\item 1420\n",
       "\\item 25\n",
       "\\end{enumerate*}\n"
      ],
      "text/markdown": [
       "1. 1420\n",
       "2. 25\n",
       "\n",
       "\n"
      ],
      "text/plain": [
       "[1] 1420   25"
      ]
     },
     "metadata": {},
     "output_type": "display_data"
    }
   ],
   "source": [
    "library(randomForest)\n",
    "library(readr)\n",
    "library(dplyr)\n",
    "library(rpart)\n",
    "library(caret)\n",
    "library(nnet)\n",
    "library(vip)\n",
    "\n",
    "set.seed(42)\n",
    "\n",
    "data <- read_csv(\"nsw.csv\", show_col_types = FALSE)\n",
    "categorical_columns <- c(\n",
    "  \"Gender\", \"Industry\", \"FamilyStatus\",\n",
    "  \"Location\",  \"ManagingRole\", \"MentalHealth\"\n",
    ")\n",
    "numeric_columns <- c(\n",
    "  \"Age\", \"Experience\", \"CommuteTimeDiff\", \"WorkTimeDiff\", \"HouseworkTimeDiff\",\n",
    "  \"FamilyTimeDiff\", \"RemoteWorkExtent\", \"RemoteWorkSupport\", \"Productivity\",\n",
    "  \"ReducedPromotion\", \"SocialIsolation\", \"SleepTimeDiff\", \"ExtraCosts\",\n",
    "  \"WorkCompatibility\", \"Motivation\", \"HomeEnvironment\", \"Wellbeing\",\n",
    "  \"PhysicalActivity\", \"Sociability\"\n",
    ")\n",
    "\n",
    "data[categorical_columns] <- lapply(data[categorical_columns], as.factor)\n",
    "data[numeric_columns] <- lapply(data[numeric_columns], as.numeric)\n",
    "data[numeric_columns] <- lapply(data[numeric_columns], scale)\n",
    "\n",
    "head(data)\n",
    "dim(data)"
   ]
  },
  {
   "cell_type": "code",
   "execution_count": 2,
   "metadata": {
    "vscode": {
     "languageId": "r"
    }
   },
   "outputs": [
    {
     "data": {
      "text/plain": [
       "\n",
       "  1   2   3 \n",
       "155 421 844 "
      ]
     },
     "metadata": {},
     "output_type": "display_data"
    }
   ],
   "source": [
    "table(data$MentalHealth)"
   ]
  },
  {
   "cell_type": "code",
   "execution_count": 3,
   "metadata": {
    "vscode": {
     "languageId": "r"
    }
   },
   "outputs": [
    {
     "data": {
      "text/plain": [
       "\n",
       "  1   2   3 \n",
       "155 155 155 "
      ]
     },
     "metadata": {},
     "output_type": "display_data"
    }
   ],
   "source": [
    "min_class_size <- data %>%\n",
    "  count(MentalHealth) %>%\n",
    "  summarise(min_size = min(n)) %>%\n",
    "  pull(min_size)\n",
    "\n",
    "# Undersample all classes to the smallest class size\n",
    "data <- data %>%\n",
    "  group_by(MentalHealth) %>%\n",
    "  slice_sample(n = min_class_size) %>%\n",
    "  ungroup()\n",
    "\n",
    "table(data$MentalHealth)"
   ]
  },
  {
   "cell_type": "code",
   "execution_count": 4,
   "metadata": {
    "vscode": {
     "languageId": "r"
    }
   },
   "outputs": [
    {
     "data": {
      "text/plain": [
       "\n",
       "  1   2   3 \n",
       "124 124 124 "
      ]
     },
     "metadata": {},
     "output_type": "display_data"
    },
    {
     "data": {
      "text/plain": [
       "\n",
       " 1  2  3 \n",
       "31 31 31 "
      ]
     },
     "metadata": {},
     "output_type": "display_data"
    }
   ],
   "source": [
    "train_index <- createDataPartition(data$MentalHealth, p = 0.8, list = FALSE)\n",
    "train_data <- data[train_index, ]\n",
    "test_data <- data[-train_index, ]\n",
    "\n",
    "table(train_data$MentalHealth)\n",
    "table(test_data$MentalHealth)"
   ]
  },
  {
   "cell_type": "code",
   "execution_count": 5,
   "metadata": {
    "vscode": {
     "languageId": "r"
    }
   },
   "outputs": [
    {
     "name": "stdout",
     "output_type": "stream",
     "text": [
      "# weights:  144 (94 variable)\n",
      "initial  value 408.683771 \n",
      "iter  10 value 286.574853\n",
      "iter  20 value 262.762700\n",
      "iter  30 value 257.981611\n",
      "iter  40 value 256.137398\n",
      "iter  50 value 255.058335\n",
      "iter  60 value 254.459774\n",
      "iter  70 value 254.332171\n",
      "iter  80 value 254.129722\n",
      "iter  90 value 252.656116\n",
      "iter 100 value 252.653805\n",
      "iter 110 value 252.210245\n",
      "iter 120 value 252.199841\n",
      "final  value 252.199820 \n",
      "converged\n"
     ]
    },
    {
     "data": {
      "text/plain": [
       "Confusion Matrix and Statistics\n",
       "\n",
       "          Reference\n",
       "Prediction  1  2  3\n",
       "         1 20  9  3\n",
       "         2  9 13 12\n",
       "         3  2  9 16\n",
       "\n",
       "Overall Statistics\n",
       "                                          \n",
       "               Accuracy : 0.5269          \n",
       "                 95% CI : (0.4206, 0.6314)\n",
       "    No Information Rate : 0.3333          \n",
       "    P-Value [Acc > NIR] : 9.324e-05       \n",
       "                                          \n",
       "                  Kappa : 0.2903          \n",
       "                                          \n",
       " Mcnemar's Test P-Value : 0.8899          \n",
       "\n",
       "Statistics by Class:\n",
       "\n",
       "                     Class: 1 Class: 2 Class: 3\n",
       "Sensitivity            0.6452   0.4194   0.5161\n",
       "Specificity            0.8065   0.6613   0.8226\n",
       "Pos Pred Value         0.6250   0.3824   0.5926\n",
       "Neg Pred Value         0.8197   0.6949   0.7727\n",
       "Prevalence             0.3333   0.3333   0.3333\n",
       "Detection Rate         0.2151   0.1398   0.1720\n",
       "Detection Prevalence   0.3441   0.3656   0.2903\n",
       "Balanced Accuracy      0.7258   0.5403   0.6694"
      ]
     },
     "metadata": {},
     "output_type": "display_data"
    }
   ],
   "source": [
    "model <- multinom(MentalHealth ~ ., data = train_data, maxit = 500)\n",
    "predicted_classes <- predict(model, test_data, type = \"class\")\n",
    "\n",
    "conf_matrix <- confusionMatrix(\n",
    "  factor(predicted_classes, levels = levels(test_data$MentalHealth)),\n",
    "  test_data$MentalHealth\n",
    ")\n",
    "conf_matrix"
   ]
  },
  {
   "cell_type": "code",
   "execution_count": 6,
   "metadata": {
    "vscode": {
     "languageId": "r"
    }
   },
   "outputs": [
    {
     "data": {
      "image/png": "[encoded data removed]",
      "text/plain": [
       "plot without title"
      ]
     },
     "metadata": {
      "image/png": {
       "height": 420,
       "width": 420
      }
     },
     "output_type": "display_data"
    }
   ],
   "source": [
    "ggplot(data = test_data, aes(x = predicted_classes, fill = MentalHealth)) +\n",
    "  geom_bar(position = \"dodge\") +\n",
    "  labs(title = \"Multinomial Regression (Predicted vs Actual)\") +\n",
    "  xlab(\"classes\")"
   ]
  },
  {
   "cell_type": "code",
   "execution_count": 7,
   "metadata": {
    "vscode": {
     "languageId": "r"
    }
   },
   "outputs": [
    {
     "name": "stderr",
     "output_type": "stream",
     "text": [
      "Warning message in sqrt(diag(vc)):\n",
      "\"NaNs produced\"\n",
      "Warning message in sqrt(diag(vc)):\n",
      "\"NaNs produced\"\n"
     ]
    },
    {
     "data": {
      "text/html": [
       "<table class=\"dataframe\">\n",
       "<caption>A tibble: 46 × 6</caption>\n",
       "<thead>\n",
       "\t<tr><th scope=col>Class</th><th scope=col>Variable</th><th scope=col>Coefficient</th><th scope=col>StdError</th><th scope=col>ZValue</th><th scope=col>PValue</th></tr>\n",
       "\t<tr><th scope=col>&lt;chr&gt;</th><th scope=col>&lt;chr&gt;</th><th scope=col>&lt;dbl&gt;</th><th scope=col>&lt;dbl&gt;</th><th scope=col>&lt;dbl&gt;</th><th scope=col>&lt;dbl&gt;</th></tr>\n",
       "</thead>\n",
       "<tbody>\n",
       "\t<tr><td>2</td><td>(Intercept)                                     </td><td> -605.7422921</td><td>5.072412e-01</td><td>-1.194190e+03</td><td>0.000000e+00</td></tr>\n",
       "\t<tr><td>2</td><td>Industryadministrative_and_support              </td><td>  607.4868958</td><td>3.644592e-01</td><td> 1.666817e+03</td><td>0.000000e+00</td></tr>\n",
       "\t<tr><td>2</td><td>Industryagriculture_forestry_and_fishing        </td><td>  608.7191229</td><td>4.368245e-01</td><td> 1.393509e+03</td><td>0.000000e+00</td></tr>\n",
       "\t<tr><td>2</td><td>Industryarts_and_recreation                     </td><td>  607.9207175</td><td>1.857825e-01</td><td> 3.272218e+03</td><td>0.000000e+00</td></tr>\n",
       "\t<tr><td>2</td><td>Industryconstruction                            </td><td>  609.7183418</td><td>2.155943e-01</td><td> 2.828083e+03</td><td>0.000000e+00</td></tr>\n",
       "\t<tr><td>2</td><td>Industryeducation_and_training                  </td><td>  608.6995379</td><td>7.945912e-01</td><td> 7.660538e+02</td><td>0.000000e+00</td></tr>\n",
       "\t<tr><td>2</td><td>Industryelectricity_gas_water_and_waste         </td><td>  608.7384367</td><td>1.531214e+00</td><td> 3.975529e+02</td><td>0.000000e+00</td></tr>\n",
       "\t<tr><td>2</td><td>Industryfinancial_and_insurance                 </td><td>  607.6774940</td><td>1.521007e+00</td><td> 3.995231e+02</td><td>0.000000e+00</td></tr>\n",
       "\t<tr><td>2</td><td>Industryhealth_care_and_social_assistance       </td><td>  608.1875972</td><td>2.162748e+00</td><td> 2.812106e+02</td><td>0.000000e+00</td></tr>\n",
       "\t<tr><td>2</td><td>Industryinformation_media_and_telecommunications</td><td>  608.5243381</td><td>1.140588e+00</td><td> 5.335181e+02</td><td>0.000000e+00</td></tr>\n",
       "\t<tr><td>2</td><td>Industrymanufacturing                           </td><td>  608.6645660</td><td>1.750853e+00</td><td> 3.476389e+02</td><td>0.000000e+00</td></tr>\n",
       "\t<tr><td>2</td><td>Industrymining                                  </td><td> -777.3079194</td><td>9.633506e-01</td><td>-8.068796e+02</td><td>0.000000e+00</td></tr>\n",
       "\t<tr><td>2</td><td>Industryother_services                          </td><td>  607.6512353</td><td>1.757094e+00</td><td> 3.458273e+02</td><td>0.000000e+00</td></tr>\n",
       "\t<tr><td>2</td><td>Industryprofessional_scientific_and_technical   </td><td>  608.4266669</td><td>5.096062e-01</td><td> 1.193915e+03</td><td>0.000000e+00</td></tr>\n",
       "\t<tr><td>2</td><td>Industrypublic_administration_and_safety        </td><td>  607.2786001</td><td>1.392907e+00</td><td> 4.359792e+02</td><td>0.000000e+00</td></tr>\n",
       "\t<tr><td>2</td><td>Industryrental_hiring_and_real_estate           </td><td>  607.5057856</td><td>1.128187e+00</td><td> 5.384796e+02</td><td>0.000000e+00</td></tr>\n",
       "\t<tr><td>2</td><td>Industrytransport_postal_and_warehousing        </td><td>  606.2419193</td><td>5.772654e-01</td><td> 1.050196e+03</td><td>0.000000e+00</td></tr>\n",
       "\t<tr><td>2</td><td>Industrywholesale_trade                         </td><td>  610.0240173</td><td>1.410355e+00</td><td> 4.325323e+02</td><td>0.000000e+00</td></tr>\n",
       "\t<tr><td>2</td><td>Locationregional                                </td><td>   -0.3536258</td><td>2.105483e-10</td><td>-1.679547e+09</td><td>0.000000e+00</td></tr>\n",
       "\t<tr><td>2</td><td>ReducedPromotion                                </td><td>   -0.3887016</td><td>2.550005e-11</td><td>-1.524317e+10</td><td>0.000000e+00</td></tr>\n",
       "\t<tr><td>2</td><td>CommuteTimeDiff                                 </td><td> -960.2217732</td><td>5.870735e-01</td><td>-1.635607e+03</td><td>0.000000e+00</td></tr>\n",
       "\t<tr><td>2</td><td>WorkTimeDiff                                    </td><td> -862.2667215</td><td>1.532259e+00</td><td>-5.627422e+02</td><td>0.000000e+00</td></tr>\n",
       "\t<tr><td>2</td><td>HouseworkTimeDiff                               </td><td> -765.1622761</td><td>4.718868e-01</td><td>-1.621495e+03</td><td>0.000000e+00</td></tr>\n",
       "\t<tr><td>2</td><td>FamilyTimeDiff                                  </td><td> -962.3278918</td><td>1.382498e+00</td><td>-6.960790e+02</td><td>0.000000e+00</td></tr>\n",
       "\t<tr><td>2</td><td>SleepTimeDiff                                   </td><td> -718.3154508</td><td>7.776317e-01</td><td>-9.237219e+02</td><td>0.000000e+00</td></tr>\n",
       "\t<tr><td>2</td><td>WorkCompatibility                               </td><td>   -0.2793783</td><td>2.974211e-11</td><td>-9.393358e+09</td><td>0.000000e+00</td></tr>\n",
       "\t<tr><td>3</td><td>Industryelectricity_gas_water_and_waste         </td><td> -822.1974642</td><td>4.513803e-01</td><td>-1.821518e+03</td><td>0.000000e+00</td></tr>\n",
       "\t<tr><td>3</td><td>Industrymining                                  </td><td>-1329.3928292</td><td>2.721272e+01</td><td>-4.885188e+01</td><td>0.000000e+00</td></tr>\n",
       "\t<tr><td>3</td><td>Industryrental_hiring_and_real_estate           </td><td> -929.9775616</td><td>2.165526e+01</td><td>-4.294464e+01</td><td>0.000000e+00</td></tr>\n",
       "\t<tr><td>3</td><td>FamilyStatusmultiple_family_household           </td><td>   -4.1561591</td><td>3.176347e-01</td><td>-1.308472e+01</td><td>0.000000e+00</td></tr>\n",
       "\t<tr><td>3</td><td>CommuteTimeDiff                                 </td><td> -866.6501597</td><td>3.107571e-01</td><td>-2.788834e+03</td><td>0.000000e+00</td></tr>\n",
       "\t<tr><td>3</td><td>WorkTimeDiff                                    </td><td> -778.2754544</td><td>2.732567e-01</td><td>-2.848148e+03</td><td>0.000000e+00</td></tr>\n",
       "\t<tr><td>3</td><td>HouseworkTimeDiff                               </td><td> -690.4100665</td><td>3.219641e-01</td><td>-2.144370e+03</td><td>0.000000e+00</td></tr>\n",
       "\t<tr><td>3</td><td>FamilyTimeDiff                                  </td><td> -868.6237039</td><td>2.824237e-01</td><td>-3.075605e+03</td><td>0.000000e+00</td></tr>\n",
       "\t<tr><td>3</td><td>SleepTimeDiff                                   </td><td> -648.1085742</td><td>3.191173e-01</td><td>-2.030942e+03</td><td>0.000000e+00</td></tr>\n",
       "\t<tr><td>3</td><td>PhysicalActivity                                </td><td>    2.0914114</td><td>2.216574e-01</td><td> 9.435334e+00</td><td>0.000000e+00</td></tr>\n",
       "\t<tr><td>3</td><td>RemoteWorkSupport                               </td><td>    0.9771366</td><td>1.857301e-01</td><td> 5.261058e+00</td><td>1.432292e-07</td></tr>\n",
       "\t<tr><td>3</td><td>FamilyStatussingle_person                       </td><td>   -1.0390759</td><td>2.376761e-01</td><td>-4.371814e+00</td><td>1.232185e-05</td></tr>\n",
       "\t<tr><td>3</td><td>Industryconstruction                            </td><td>    1.6532282</td><td>5.121100e-01</td><td> 3.228268e+00</td><td>1.245423e-03</td></tr>\n",
       "\t<tr><td>3</td><td>FamilyStatusgroup_household                     </td><td>   -0.8376113</td><td>2.702291e-01</td><td>-3.099634e+00</td><td>1.937601e-03</td></tr>\n",
       "\t<tr><td>3</td><td>Productivity                                    </td><td>    0.6675527</td><td>2.245582e-01</td><td> 2.972738e+00</td><td>2.951564e-03</td></tr>\n",
       "\t<tr><td>3</td><td>Industryinformation_media_and_telecommunications</td><td>    0.6410715</td><td>2.356027e-01</td><td> 2.720985e+00</td><td>6.508775e-03</td></tr>\n",
       "\t<tr><td>3</td><td>(Intercept)                                     </td><td>    2.4353564</td><td>9.024474e-01</td><td> 2.698613e+00</td><td>6.962908e-03</td></tr>\n",
       "\t<tr><td>3</td><td>Industryeducation_and_training                  </td><td>    1.5995127</td><td>6.075889e-01</td><td> 2.632557e+00</td><td>8.474471e-03</td></tr>\n",
       "\t<tr><td>2</td><td>FamilyStatusmultiple_family_household           </td><td>   -1.2531646</td><td>5.791600e-01</td><td>-2.163762e+00</td><td>3.048260e-02</td></tr>\n",
       "\t<tr><td>3</td><td>Sociability                                     </td><td>   -0.5824617</td><td>2.709672e-01</td><td>-2.149566e+00</td><td>3.158959e-02</td></tr>\n",
       "</tbody>\n",
       "</table>\n"
      ],
      "text/latex": [
       "A tibble: 46 × 6\n",
       "\\begin{tabular}{llllll}\n",
       " Class & Variable & Coefficient & StdError & ZValue & PValue\\\\\n",
       " <chr> & <chr> & <dbl> & <dbl> & <dbl> & <dbl>\\\\\n",
       "\\hline\n",
       "\t 2 & (Intercept)                                      &  -605.7422921 & 5.072412e-01 & -1.194190e+03 & 0.000000e+00\\\\\n",
       "\t 2 & Industryadministrative\\_and\\_support               &   607.4868958 & 3.644592e-01 &  1.666817e+03 & 0.000000e+00\\\\\n",
       "\t 2 & Industryagriculture\\_forestry\\_and\\_fishing         &   608.7191229 & 4.368245e-01 &  1.393509e+03 & 0.000000e+00\\\\\n",
       "\t 2 & Industryarts\\_and\\_recreation                      &   607.9207175 & 1.857825e-01 &  3.272218e+03 & 0.000000e+00\\\\\n",
       "\t 2 & Industryconstruction                             &   609.7183418 & 2.155943e-01 &  2.828083e+03 & 0.000000e+00\\\\\n",
       "\t 2 & Industryeducation\\_and\\_training                   &   608.6995379 & 7.945912e-01 &  7.660538e+02 & 0.000000e+00\\\\\n",
       "\t 2 & Industryelectricity\\_gas\\_water\\_and\\_waste          &   608.7384367 & 1.531214e+00 &  3.975529e+02 & 0.000000e+00\\\\\n",
       "\t 2 & Industryfinancial\\_and\\_insurance                  &   607.6774940 & 1.521007e+00 &  3.995231e+02 & 0.000000e+00\\\\\n",
       "\t 2 & Industryhealth\\_care\\_and\\_social\\_assistance        &   608.1875972 & 2.162748e+00 &  2.812106e+02 & 0.000000e+00\\\\\n",
       "\t 2 & Industryinformation\\_media\\_and\\_telecommunications &   608.5243381 & 1.140588e+00 &  5.335181e+02 & 0.000000e+00\\\\\n",
       "\t 2 & Industrymanufacturing                            &   608.6645660 & 1.750853e+00 &  3.476389e+02 & 0.000000e+00\\\\\n",
       "\t 2 & Industrymining                                   &  -777.3079194 & 9.633506e-01 & -8.068796e+02 & 0.000000e+00\\\\\n",
       "\t 2 & Industryother\\_services                           &   607.6512353 & 1.757094e+00 &  3.458273e+02 & 0.000000e+00\\\\\n",
       "\t 2 & Industryprofessional\\_scientific\\_and\\_technical    &   608.4266669 & 5.096062e-01 &  1.193915e+03 & 0.000000e+00\\\\\n",
       "\t 2 & Industrypublic\\_administration\\_and\\_safety         &   607.2786001 & 1.392907e+00 &  4.359792e+02 & 0.000000e+00\\\\\n",
       "\t 2 & Industryrental\\_hiring\\_and\\_real\\_estate            &   607.5057856 & 1.128187e+00 &  5.384796e+02 & 0.000000e+00\\\\\n",
       "\t 2 & Industrytransport\\_postal\\_and\\_warehousing         &   606.2419193 & 5.772654e-01 &  1.050196e+03 & 0.000000e+00\\\\\n",
       "\t 2 & Industrywholesale\\_trade                          &   610.0240173 & 1.410355e+00 &  4.325323e+02 & 0.000000e+00\\\\\n",
       "\t 2 & Locationregional                                 &    -0.3536258 & 2.105483e-10 & -1.679547e+09 & 0.000000e+00\\\\\n",
       "\t 2 & ReducedPromotion                                 &    -0.3887016 & 2.550005e-11 & -1.524317e+10 & 0.000000e+00\\\\\n",
       "\t 2 & CommuteTimeDiff                                  &  -960.2217732 & 5.870735e-01 & -1.635607e+03 & 0.000000e+00\\\\\n",
       "\t 2 & WorkTimeDiff                                     &  -862.2667215 & 1.532259e+00 & -5.627422e+02 & 0.000000e+00\\\\\n",
       "\t 2 & HouseworkTimeDiff                                &  -765.1622761 & 4.718868e-01 & -1.621495e+03 & 0.000000e+00\\\\\n",
       "\t 2 & FamilyTimeDiff                                   &  -962.3278918 & 1.382498e+00 & -6.960790e+02 & 0.000000e+00\\\\\n",
       "\t 2 & SleepTimeDiff                                    &  -718.3154508 & 7.776317e-01 & -9.237219e+02 & 0.000000e+00\\\\\n",
       "\t 2 & WorkCompatibility                                &    -0.2793783 & 2.974211e-11 & -9.393358e+09 & 0.000000e+00\\\\\n",
       "\t 3 & Industryelectricity\\_gas\\_water\\_and\\_waste          &  -822.1974642 & 4.513803e-01 & -1.821518e+03 & 0.000000e+00\\\\\n",
       "\t 3 & Industrymining                                   & -1329.3928292 & 2.721272e+01 & -4.885188e+01 & 0.000000e+00\\\\\n",
       "\t 3 & Industryrental\\_hiring\\_and\\_real\\_estate            &  -929.9775616 & 2.165526e+01 & -4.294464e+01 & 0.000000e+00\\\\\n",
       "\t 3 & FamilyStatusmultiple\\_family\\_household            &    -4.1561591 & 3.176347e-01 & -1.308472e+01 & 0.000000e+00\\\\\n",
       "\t 3 & CommuteTimeDiff                                  &  -866.6501597 & 3.107571e-01 & -2.788834e+03 & 0.000000e+00\\\\\n",
       "\t 3 & WorkTimeDiff                                     &  -778.2754544 & 2.732567e-01 & -2.848148e+03 & 0.000000e+00\\\\\n",
       "\t 3 & HouseworkTimeDiff                                &  -690.4100665 & 3.219641e-01 & -2.144370e+03 & 0.000000e+00\\\\\n",
       "\t 3 & FamilyTimeDiff                                   &  -868.6237039 & 2.824237e-01 & -3.075605e+03 & 0.000000e+00\\\\\n",
       "\t 3 & SleepTimeDiff                                    &  -648.1085742 & 3.191173e-01 & -2.030942e+03 & 0.000000e+00\\\\\n",
       "\t 3 & PhysicalActivity                                 &     2.0914114 & 2.216574e-01 &  9.435334e+00 & 0.000000e+00\\\\\n",
       "\t 3 & RemoteWorkSupport                                &     0.9771366 & 1.857301e-01 &  5.261058e+00 & 1.432292e-07\\\\\n",
       "\t 3 & FamilyStatussingle\\_person                        &    -1.0390759 & 2.376761e-01 & -4.371814e+00 & 1.232185e-05\\\\\n",
       "\t 3 & Industryconstruction                             &     1.6532282 & 5.121100e-01 &  3.228268e+00 & 1.245423e-03\\\\\n",
       "\t 3 & FamilyStatusgroup\\_household                      &    -0.8376113 & 2.702291e-01 & -3.099634e+00 & 1.937601e-03\\\\\n",
       "\t 3 & Productivity                                     &     0.6675527 & 2.245582e-01 &  2.972738e+00 & 2.951564e-03\\\\\n",
       "\t 3 & Industryinformation\\_media\\_and\\_telecommunications &     0.6410715 & 2.356027e-01 &  2.720985e+00 & 6.508775e-03\\\\\n",
       "\t 3 & (Intercept)                                      &     2.4353564 & 9.024474e-01 &  2.698613e+00 & 6.962908e-03\\\\\n",
       "\t 3 & Industryeducation\\_and\\_training                   &     1.5995127 & 6.075889e-01 &  2.632557e+00 & 8.474471e-03\\\\\n",
       "\t 2 & FamilyStatusmultiple\\_family\\_household            &    -1.2531646 & 5.791600e-01 & -2.163762e+00 & 3.048260e-02\\\\\n",
       "\t 3 & Sociability                                      &    -0.5824617 & 2.709672e-01 & -2.149566e+00 & 3.158959e-02\\\\\n",
       "\\end{tabular}\n"
      ],
      "text/markdown": [
       "\n",
       "A tibble: 46 × 6\n",
       "\n",
       "| Class &lt;chr&gt; | Variable &lt;chr&gt; | Coefficient &lt;dbl&gt; | StdError &lt;dbl&gt; | ZValue &lt;dbl&gt; | PValue &lt;dbl&gt; |\n",
       "|---|---|---|---|---|---|\n",
       "| 2 | (Intercept)                                      |  -605.7422921 | 5.072412e-01 | -1.194190e+03 | 0.000000e+00 |\n",
       "| 2 | Industryadministrative_and_support               |   607.4868958 | 3.644592e-01 |  1.666817e+03 | 0.000000e+00 |\n",
       "| 2 | Industryagriculture_forestry_and_fishing         |   608.7191229 | 4.368245e-01 |  1.393509e+03 | 0.000000e+00 |\n",
       "| 2 | Industryarts_and_recreation                      |   607.9207175 | 1.857825e-01 |  3.272218e+03 | 0.000000e+00 |\n",
       "| 2 | Industryconstruction                             |   609.7183418 | 2.155943e-01 |  2.828083e+03 | 0.000000e+00 |\n",
       "| 2 | Industryeducation_and_training                   |   608.6995379 | 7.945912e-01 |  7.660538e+02 | 0.000000e+00 |\n",
       "| 2 | Industryelectricity_gas_water_and_waste          |   608.7384367 | 1.531214e+00 |  3.975529e+02 | 0.000000e+00 |\n",
       "| 2 | Industryfinancial_and_insurance                  |   607.6774940 | 1.521007e+00 |  3.995231e+02 | 0.000000e+00 |\n",
       "| 2 | Industryhealth_care_and_social_assistance        |   608.1875972 | 2.162748e+00 |  2.812106e+02 | 0.000000e+00 |\n",
       "| 2 | Industryinformation_media_and_telecommunications |   608.5243381 | 1.140588e+00 |  5.335181e+02 | 0.000000e+00 |\n",
       "| 2 | Industrymanufacturing                            |   608.6645660 | 1.750853e+00 |  3.476389e+02 | 0.000000e+00 |\n",
       "| 2 | Industrymining                                   |  -777.3079194 | 9.633506e-01 | -8.068796e+02 | 0.000000e+00 |\n",
       "| 2 | Industryother_services                           |   607.6512353 | 1.757094e+00 |  3.458273e+02 | 0.000000e+00 |\n",
       "| 2 | Industryprofessional_scientific_and_technical    |   608.4266669 | 5.096062e-01 |  1.193915e+03 | 0.000000e+00 |\n",
       "| 2 | Industrypublic_administration_and_safety         |   607.2786001 | 1.392907e+00 |  4.359792e+02 | 0.000000e+00 |\n",
       "| 2 | Industryrental_hiring_and_real_estate            |   607.5057856 | 1.128187e+00 |  5.384796e+02 | 0.000000e+00 |\n",
       "| 2 | Industrytransport_postal_and_warehousing         |   606.2419193 | 5.772654e-01 |  1.050196e+03 | 0.000000e+00 |\n",
       "| 2 | Industrywholesale_trade                          |   610.0240173 | 1.410355e+00 |  4.325323e+02 | 0.000000e+00 |\n",
       "| 2 | Locationregional                                 |    -0.3536258 | 2.105483e-10 | -1.679547e+09 | 0.000000e+00 |\n",
       "| 2 | ReducedPromotion                                 |    -0.3887016 | 2.550005e-11 | -1.524317e+10 | 0.000000e+00 |\n",
       "| 2 | CommuteTimeDiff                                  |  -960.2217732 | 5.870735e-01 | -1.635607e+03 | 0.000000e+00 |\n",
       "| 2 | WorkTimeDiff                                     |  -862.2667215 | 1.532259e+00 | -5.627422e+02 | 0.000000e+00 |\n",
       "| 2 | HouseworkTimeDiff                                |  -765.1622761 | 4.718868e-01 | -1.621495e+03 | 0.000000e+00 |\n",
       "| 2 | FamilyTimeDiff                                   |  -962.3278918 | 1.382498e+00 | -6.960790e+02 | 0.000000e+00 |\n",
       "| 2 | SleepTimeDiff                                    |  -718.3154508 | 7.776317e-01 | -9.237219e+02 | 0.000000e+00 |\n",
       "| 2 | WorkCompatibility                                |    -0.2793783 | 2.974211e-11 | -9.393358e+09 | 0.000000e+00 |\n",
       "| 3 | Industryelectricity_gas_water_and_waste          |  -822.1974642 | 4.513803e-01 | -1.821518e+03 | 0.000000e+00 |\n",
       "| 3 | Industrymining                                   | -1329.3928292 | 2.721272e+01 | -4.885188e+01 | 0.000000e+00 |\n",
       "| 3 | Industryrental_hiring_and_real_estate            |  -929.9775616 | 2.165526e+01 | -4.294464e+01 | 0.000000e+00 |\n",
       "| 3 | FamilyStatusmultiple_family_household            |    -4.1561591 | 3.176347e-01 | -1.308472e+01 | 0.000000e+00 |\n",
       "| 3 | CommuteTimeDiff                                  |  -866.6501597 | 3.107571e-01 | -2.788834e+03 | 0.000000e+00 |\n",
       "| 3 | WorkTimeDiff                                     |  -778.2754544 | 2.732567e-01 | -2.848148e+03 | 0.000000e+00 |\n",
       "| 3 | HouseworkTimeDiff                                |  -690.4100665 | 3.219641e-01 | -2.144370e+03 | 0.000000e+00 |\n",
       "| 3 | FamilyTimeDiff                                   |  -868.6237039 | 2.824237e-01 | -3.075605e+03 | 0.000000e+00 |\n",
       "| 3 | SleepTimeDiff                                    |  -648.1085742 | 3.191173e-01 | -2.030942e+03 | 0.000000e+00 |\n",
       "| 3 | PhysicalActivity                                 |     2.0914114 | 2.216574e-01 |  9.435334e+00 | 0.000000e+00 |\n",
       "| 3 | RemoteWorkSupport                                |     0.9771366 | 1.857301e-01 |  5.261058e+00 | 1.432292e-07 |\n",
       "| 3 | FamilyStatussingle_person                        |    -1.0390759 | 2.376761e-01 | -4.371814e+00 | 1.232185e-05 |\n",
       "| 3 | Industryconstruction                             |     1.6532282 | 5.121100e-01 |  3.228268e+00 | 1.245423e-03 |\n",
       "| 3 | FamilyStatusgroup_household                      |    -0.8376113 | 2.702291e-01 | -3.099634e+00 | 1.937601e-03 |\n",
       "| 3 | Productivity                                     |     0.6675527 | 2.245582e-01 |  2.972738e+00 | 2.951564e-03 |\n",
       "| 3 | Industryinformation_media_and_telecommunications |     0.6410715 | 2.356027e-01 |  2.720985e+00 | 6.508775e-03 |\n",
       "| 3 | (Intercept)                                      |     2.4353564 | 9.024474e-01 |  2.698613e+00 | 6.962908e-03 |\n",
       "| 3 | Industryeducation_and_training                   |     1.5995127 | 6.075889e-01 |  2.632557e+00 | 8.474471e-03 |\n",
       "| 2 | FamilyStatusmultiple_family_household            |    -1.2531646 | 5.791600e-01 | -2.163762e+00 | 3.048260e-02 |\n",
       "| 3 | Sociability                                      |    -0.5824617 | 2.709672e-01 | -2.149566e+00 | 3.158959e-02 |\n",
       "\n"
      ],
      "text/plain": [
       "   Class Variable                                         Coefficient  \n",
       "1  2     (Intercept)                                       -605.7422921\n",
       "2  2     Industryadministrative_and_support                 607.4868958\n",
       "3  2     Industryagriculture_forestry_and_fishing           608.7191229\n",
       "4  2     Industryarts_and_recreation                        607.9207175\n",
       "5  2     Industryconstruction                               609.7183418\n",
       "6  2     Industryeducation_and_training                     608.6995379\n",
       "7  2     Industryelectricity_gas_water_and_waste            608.7384367\n",
       "8  2     Industryfinancial_and_insurance                    607.6774940\n",
       "9  2     Industryhealth_care_and_social_assistance          608.1875972\n",
       "10 2     Industryinformation_media_and_telecommunications   608.5243381\n",
       "11 2     Industrymanufacturing                              608.6645660\n",
       "12 2     Industrymining                                    -777.3079194\n",
       "13 2     Industryother_services                             607.6512353\n",
       "14 2     Industryprofessional_scientific_and_technical      608.4266669\n",
       "15 2     Industrypublic_administration_and_safety           607.2786001\n",
       "16 2     Industryrental_hiring_and_real_estate              607.5057856\n",
       "17 2     Industrytransport_postal_and_warehousing           606.2419193\n",
       "18 2     Industrywholesale_trade                            610.0240173\n",
       "19 2     Locationregional                                    -0.3536258\n",
       "20 2     ReducedPromotion                                    -0.3887016\n",
       "21 2     CommuteTimeDiff                                   -960.2217732\n",
       "22 2     WorkTimeDiff                                      -862.2667215\n",
       "23 2     HouseworkTimeDiff                                 -765.1622761\n",
       "24 2     FamilyTimeDiff                                    -962.3278918\n",
       "25 2     SleepTimeDiff                                     -718.3154508\n",
       "26 2     WorkCompatibility                                   -0.2793783\n",
       "27 3     Industryelectricity_gas_water_and_waste           -822.1974642\n",
       "28 3     Industrymining                                   -1329.3928292\n",
       "29 3     Industryrental_hiring_and_real_estate             -929.9775616\n",
       "30 3     FamilyStatusmultiple_family_household               -4.1561591\n",
       "31 3     CommuteTimeDiff                                   -866.6501597\n",
       "32 3     WorkTimeDiff                                      -778.2754544\n",
       "33 3     HouseworkTimeDiff                                 -690.4100665\n",
       "34 3     FamilyTimeDiff                                    -868.6237039\n",
       "35 3     SleepTimeDiff                                     -648.1085742\n",
       "36 3     PhysicalActivity                                     2.0914114\n",
       "37 3     RemoteWorkSupport                                    0.9771366\n",
       "38 3     FamilyStatussingle_person                           -1.0390759\n",
       "39 3     Industryconstruction                                 1.6532282\n",
       "40 3     FamilyStatusgroup_household                         -0.8376113\n",
       "41 3     Productivity                                         0.6675527\n",
       "42 3     Industryinformation_media_and_telecommunications     0.6410715\n",
       "43 3     (Intercept)                                          2.4353564\n",
       "44 3     Industryeducation_and_training                       1.5995127\n",
       "45 2     FamilyStatusmultiple_family_household               -1.2531646\n",
       "46 3     Sociability                                         -0.5824617\n",
       "   StdError     ZValue        PValue      \n",
       "1  5.072412e-01 -1.194190e+03 0.000000e+00\n",
       "2  3.644592e-01  1.666817e+03 0.000000e+00\n",
       "3  4.368245e-01  1.393509e+03 0.000000e+00\n",
       "4  1.857825e-01  3.272218e+03 0.000000e+00\n",
       "5  2.155943e-01  2.828083e+03 0.000000e+00\n",
       "6  7.945912e-01  7.660538e+02 0.000000e+00\n",
       "7  1.531214e+00  3.975529e+02 0.000000e+00\n",
       "8  1.521007e+00  3.995231e+02 0.000000e+00\n",
       "9  2.162748e+00  2.812106e+02 0.000000e+00\n",
       "10 1.140588e+00  5.335181e+02 0.000000e+00\n",
       "11 1.750853e+00  3.476389e+02 0.000000e+00\n",
       "12 9.633506e-01 -8.068796e+02 0.000000e+00\n",
       "13 1.757094e+00  3.458273e+02 0.000000e+00\n",
       "14 5.096062e-01  1.193915e+03 0.000000e+00\n",
       "15 1.392907e+00  4.359792e+02 0.000000e+00\n",
       "16 1.128187e+00  5.384796e+02 0.000000e+00\n",
       "17 5.772654e-01  1.050196e+03 0.000000e+00\n",
       "18 1.410355e+00  4.325323e+02 0.000000e+00\n",
       "19 2.105483e-10 -1.679547e+09 0.000000e+00\n",
       "20 2.550005e-11 -1.524317e+10 0.000000e+00\n",
       "21 5.870735e-01 -1.635607e+03 0.000000e+00\n",
       "22 1.532259e+00 -5.627422e+02 0.000000e+00\n",
       "23 4.718868e-01 -1.621495e+03 0.000000e+00\n",
       "24 1.382498e+00 -6.960790e+02 0.000000e+00\n",
       "25 7.776317e-01 -9.237219e+02 0.000000e+00\n",
       "26 2.974211e-11 -9.393358e+09 0.000000e+00\n",
       "27 4.513803e-01 -1.821518e+03 0.000000e+00\n",
       "28 2.721272e+01 -4.885188e+01 0.000000e+00\n",
       "29 2.165526e+01 -4.294464e+01 0.000000e+00\n",
       "30 3.176347e-01 -1.308472e+01 0.000000e+00\n",
       "31 3.107571e-01 -2.788834e+03 0.000000e+00\n",
       "32 2.732567e-01 -2.848148e+03 0.000000e+00\n",
       "33 3.219641e-01 -2.144370e+03 0.000000e+00\n",
       "34 2.824237e-01 -3.075605e+03 0.000000e+00\n",
       "35 3.191173e-01 -2.030942e+03 0.000000e+00\n",
       "36 2.216574e-01  9.435334e+00 0.000000e+00\n",
       "37 1.857301e-01  5.261058e+00 1.432292e-07\n",
       "38 2.376761e-01 -4.371814e+00 1.232185e-05\n",
       "39 5.121100e-01  3.228268e+00 1.245423e-03\n",
       "40 2.702291e-01 -3.099634e+00 1.937601e-03\n",
       "41 2.245582e-01  2.972738e+00 2.951564e-03\n",
       "42 2.356027e-01  2.720985e+00 6.508775e-03\n",
       "43 9.024474e-01  2.698613e+00 6.962908e-03\n",
       "44 6.075889e-01  2.632557e+00 8.474471e-03\n",
       "45 5.791600e-01 -2.163762e+00 3.048260e-02\n",
       "46 2.709672e-01 -2.149566e+00 3.158959e-02"
      ]
     },
     "metadata": {},
     "output_type": "display_data"
    }
   ],
   "source": [
    "coeffs <- summary(model)$coefficients\n",
    "std_err <- summary(model)$standard.errors\n",
    "\n",
    "z_values <- coeffs / std_err\n",
    "p_values <- 2 * (1 - pnorm(abs(z_values)))\n",
    "\n",
    "result_table <- as.data.frame(coeffs) %>%\n",
    "  tibble::rownames_to_column(var = \"Class\") %>%\n",
    "  tidyr::pivot_longer(\n",
    "    cols = -Class,\n",
    "    names_to = \"Variable\",\n",
    "    values_to = \"Coefficient\"\n",
    "  ) %>%\n",
    "  mutate(\n",
    "    StdError = as.numeric(std_err),\n",
    "    ZValue = Coefficient / StdError,\n",
    "    PValue = 2 * (1 - pnorm(abs(ZValue)))\n",
    "  ) %>%\n",
    "  filter(PValue < 0.05) %>%\n",
    "  arrange(PValue)\n",
    "\n",
    "result_table"
   ]
  },
  {
   "cell_type": "code",
   "execution_count": 8,
   "metadata": {
    "vscode": {
     "languageId": "r"
    }
   },
   "outputs": [
    {
     "data": {
      "text/plain": [
       "Confusion Matrix and Statistics\n",
       "\n",
       "          Reference\n",
       "Prediction  1  2  3\n",
       "         1 21  6  4\n",
       "         2  7 19  8\n",
       "         3  3  6 19\n",
       "\n",
       "Overall Statistics\n",
       "                                          \n",
       "               Accuracy : 0.6344          \n",
       "                 95% CI : (0.5281, 0.7319)\n",
       "    No Information Rate : 0.3333          \n",
       "    P-Value [Acc > NIR] : 2.855e-09       \n",
       "                                          \n",
       "                  Kappa : 0.4516          \n",
       "                                          \n",
       " Mcnemar's Test P-Value : 0.9177          \n",
       "\n",
       "Statistics by Class:\n",
       "\n",
       "                     Class: 1 Class: 2 Class: 3\n",
       "Sensitivity            0.6774   0.6129   0.6129\n",
       "Specificity            0.8387   0.7581   0.8548\n",
       "Pos Pred Value         0.6774   0.5588   0.6786\n",
       "Neg Pred Value         0.8387   0.7966   0.8154\n",
       "Prevalence             0.3333   0.3333   0.3333\n",
       "Detection Rate         0.2258   0.2043   0.2043\n",
       "Detection Prevalence   0.3333   0.3656   0.3011\n",
       "Balanced Accuracy      0.7581   0.6855   0.7339"
      ]
     },
     "metadata": {},
     "output_type": "display_data"
    }
   ],
   "source": [
    "rf_model <- randomForest(MentalHealth ~ ., data = train_data)\n",
    "rf_predictions <- predict(rf_model, test_data)\n",
    "rf_conf_matrix <- confusionMatrix(rf_predictions, test_data$MentalHealth)\n",
    "rf_conf_matrix"
   ]
  },
  {
   "cell_type": "code",
   "execution_count": 9,
   "metadata": {
    "vscode": {
     "languageId": "r"
    }
   },
   "outputs": [
    {
     "name": "stdout",
     "output_type": "stream",
     "text": [
      "            Variable MeanDecreaseGini\n",
      "1   PhysicalActivity        35.506735\n",
      "2           Industry        27.994072\n",
      "3                Age        16.335788\n",
      "4       FamilyStatus        15.279049\n",
      "5       Productivity        14.708899\n",
      "6    CommuteTimeDiff        12.753877\n",
      "7     FamilyTimeDiff        10.479910\n",
      "8  RemoteWorkSupport         9.714800\n",
      "9        Sociability         9.616798\n",
      "10 HouseworkTimeDiff         9.437964\n",
      "11         Wellbeing         8.663507\n",
      "12      WorkTimeDiff         8.622696\n",
      "13   HomeEnvironment         7.629865\n",
      "14  RemoteWorkExtent         7.490589\n",
      "15     SleepTimeDiff         7.079501\n",
      "16        Motivation         7.012818\n",
      "17  ReducedPromotion         6.997775\n",
      "18        Experience         5.859547\n",
      "19        ExtraCosts         5.514163\n",
      "20 WorkCompatibility         5.137281\n",
      "21   SocialIsolation         4.985063\n",
      "22            Gender         4.032625\n",
      "23      ManagingRole         3.167457\n",
      "24          Location         2.182712\n"
     ]
    }
   ],
   "source": [
    "importance_table <- as.data.frame(importance(rf_model))\n",
    "\n",
    "importance_table <- importance_table %>%\n",
    "  tibble::rownames_to_column(var = \"Variable\") %>%\n",
    "  arrange(desc(MeanDecreaseGini))\n",
    "\n",
    "print(importance_table)"
   ]
  },
  {
   "cell_type": "code",
   "execution_count": 10,
   "metadata": {
    "vscode": {
     "languageId": "r"
    }
   },
   "outputs": [
    {
     "data": {
      "image/png": "[encoded data removed]",
      "text/plain": [
       "plot without title"
      ]
     },
     "metadata": {
      "image/png": {
       "height": 420,
       "width": 420
      }
     },
     "output_type": "display_data"
    }
   ],
   "source": [
    "ggplot(data = test_data, aes(x = rf_predictions, fill = MentalHealth)) +\n",
    "  geom_bar(position = \"dodge\") +\n",
    "  labs(title = \"Random Forest (Predicted vs Actual)\") +\n",
    "  xlab(\"classes\")"
   ]
  }
 ],
 "metadata": {
  "kernelspec": {
   "display_name": "R",
   "language": "R",
   "name": "ir"
  },
  "language_info": {
   "codemirror_mode": "r",
   "file_extension": ".r",
   "mimetype": "text/x-r-source",
   "name": "R",
   "pygments_lexer": "r",
   "version": "4.3.2"
  }
 },
 "nbformat": 4,
 "nbformat_minor": 2
}
