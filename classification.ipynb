{
 "cells": [
  {
   "cell_type": "code",
   "execution_count": 1,
   "metadata": {
    "vscode": {
     "languageId": "r"
    }
   },
   "outputs": [
    {
     "name": "stderr",
     "output_type": "stream",
     "text": [
      "Warning message:\n",
      "\"package 'randomForest' was built under R version 4.3.3\"\n",
      "randomForest 4.7-1.2\n",
      "\n",
      "Type rfNews() to see new features/changes/bug fixes.\n",
      "\n",
      "\n",
      "Attaching package: 'dplyr'\n",
      "\n",
      "\n",
      "The following object is masked from 'package:randomForest':\n",
      "\n",
      "    combine\n",
      "\n",
      "\n",
      "The following objects are masked from 'package:stats':\n",
      "\n",
      "    filter, lag\n",
      "\n",
      "\n",
      "The following objects are masked from 'package:base':\n",
      "\n",
      "    intersect, setdiff, setequal, union\n",
      "\n",
      "\n",
      "Warning message:\n",
      "\"package 'caret' was built under R version 4.3.3\"\n",
      "Loading required package: ggplot2\n",
      "\n",
      "Warning message:\n",
      "\"package 'ggplot2' was built under R version 4.3.3\"\n",
      "\n",
      "Attaching package: 'ggplot2'\n",
      "\n",
      "\n",
      "The following object is masked from 'package:randomForest':\n",
      "\n",
      "    margin\n",
      "\n",
      "\n",
      "Loading required package: lattice\n",
      "\n",
      "Warning message:\n",
      "\"package 'vip' was built under R version 4.3.3\"\n",
      "\n",
      "Attaching package: 'vip'\n",
      "\n",
      "\n",
      "The following object is masked from 'package:utils':\n",
      "\n",
      "    vi\n",
      "\n",
      "\n"
     ]
    },
    {
     "data": {
      "text/html": [
       "<table class=\"dataframe\">\n",
       "<caption>A tibble: 6 × 25</caption>\n",
       "<thead>\n",
       "\t<tr><th scope=col>Age</th><th scope=col>Gender</th><th scope=col>Experience</th><th scope=col>Industry</th><th scope=col>FamilyStatus</th><th scope=col>Location</th><th scope=col>InterpersonalRelationships</th><th scope=col>Commuting</th><th scope=col>WorkEfficiency</th><th scope=col>Housework</th><th scope=col>⋯</th><th scope=col>Motivation</th><th scope=col>PhysicalEnvironment</th><th scope=col>Wellbeing</th><th scope=col>MentalHealth</th><th scope=col>PhysicalHealth</th><th scope=col>Sociability</th><th scope=col>ManagingRole</th><th scope=col>RemoteWorkExtent</th><th scope=col>RemoteWorkSupport</th><th scope=col>Productivity</th></tr>\n",
       "\t<tr><th scope=col>&lt;dbl[,1]&gt;</th><th scope=col>&lt;fct&gt;</th><th scope=col>&lt;dbl[,1]&gt;</th><th scope=col>&lt;fct&gt;</th><th scope=col>&lt;fct&gt;</th><th scope=col>&lt;fct&gt;</th><th scope=col>&lt;dbl[,1]&gt;</th><th scope=col>&lt;dbl[,1]&gt;</th><th scope=col>&lt;dbl[,1]&gt;</th><th scope=col>&lt;dbl[,1]&gt;</th><th scope=col>⋯</th><th scope=col>&lt;dbl[,1]&gt;</th><th scope=col>&lt;dbl[,1]&gt;</th><th scope=col>&lt;dbl[,1]&gt;</th><th scope=col>&lt;fct&gt;</th><th scope=col>&lt;dbl[,1]&gt;</th><th scope=col>&lt;dbl[,1]&gt;</th><th scope=col>&lt;fct&gt;</th><th scope=col>&lt;dbl[,1]&gt;</th><th scope=col>&lt;dbl[,1]&gt;</th><th scope=col>&lt;dbl[,1]&gt;</th></tr>\n",
       "</thead>\n",
       "<tbody>\n",
       "\t<tr><td> 0.25489190</td><td>Male  </td><td> 0.9403261</td><td>Other Services                   </td><td>Couple with dependent children           </td><td>Metro   </td><td>-1.1175702</td><td>-0.61964823</td><td> 1.3719844</td><td>-0.2207096</td><td>⋯</td><td>-0.166609</td><td> 0.01176681</td><td> 1.2139968</td><td>3</td><td> 0.7859694</td><td>-0.5502987</td><td>No </td><td> 0.004252265</td><td> 1.0535760</td><td> 1.0775389</td></tr>\n",
       "\t<tr><td> 0.67971175</td><td>Male  </td><td> 0.9403261</td><td>Construction                     </td><td>Couple with no dependent children        </td><td>Metro   </td><td> 0.1261208</td><td>-0.26621209</td><td> 1.3719844</td><td> 1.5534631</td><td>⋯</td><td>-0.166609</td><td> 0.01176681</td><td>-0.1433854</td><td>2</td><td>-0.5255189</td><td>-0.5502987</td><td>No </td><td>-1.203391119</td><td>-0.5638055</td><td> 1.0775389</td></tr>\n",
       "\t<tr><td> 0.08496397</td><td>Female</td><td>-2.0368490</td><td>Financial and Insurance          </td><td>Single person                            </td><td>Metro   </td><td>-1.1175702</td><td>-0.61964823</td><td>-0.2026512</td><td> 0.6663767</td><td>⋯</td><td> 1.258600</td><td> 1.40417235</td><td>-0.1433854</td><td>3</td><td>-0.5255189</td><td>-1.9432116</td><td>No </td><td> 1.211895650</td><td> 1.0535760</td><td>-0.4822014</td></tr>\n",
       "\t<tr><td> 1.44438746</td><td>Female</td><td>-0.5482615</td><td>Health Care and Social Assistance</td><td>One parent family with dependent children</td><td>Regional</td><td>-1.1175702</td><td> 0.79409634</td><td>-0.2026512</td><td>-1.9948822</td><td>⋯</td><td>-1.591818</td><td>-1.38063873</td><td>-1.5007676</td><td>3</td><td> 0.7859694</td><td> 0.8426142</td><td>Yes</td><td> 0.004252265</td><td>-0.5638055</td><td> 1.0775389</td></tr>\n",
       "\t<tr><td>-0.50978381</td><td>Male  </td><td>-0.5482615</td><td>Manufacturing                    </td><td>Couple with dependent children           </td><td>Metro   </td><td> 0.1261208</td><td> 0.08722406</td><td>-0.2026512</td><td> 1.5534631</td><td>⋯</td><td>-0.166609</td><td> 0.01176681</td><td>-0.1433854</td><td>2</td><td>-0.5255189</td><td>-0.5502987</td><td>No </td><td> 0.004252265</td><td>-0.5638055</td><td>-0.4822014</td></tr>\n",
       "\t<tr><td> 0.50978381</td><td>Male  </td><td> 0.9403261</td><td>Public Administration and Safety </td><td>Couple with dependent children           </td><td>Metro   </td><td>-1.1175702</td><td> 0.08722406</td><td>-0.2026512</td><td>-0.2207096</td><td>⋯</td><td> 1.258600</td><td> 0.01176681</td><td>-0.1433854</td><td>3</td><td> 0.7859694</td><td> 0.8426142</td><td>Yes</td><td> 1.211895650</td><td>-0.5638055</td><td>-0.4822014</td></tr>\n",
       "</tbody>\n",
       "</table>\n"
      ],
      "text/latex": [
       "A tibble: 6 × 25\n",
       "\\begin{tabular}{lllllllllllllllllllll}\n",
       " Age & Gender & Experience & Industry & FamilyStatus & Location & InterpersonalRelationships & Commuting & WorkEfficiency & Housework & ⋯ & Motivation & PhysicalEnvironment & Wellbeing & MentalHealth & PhysicalHealth & Sociability & ManagingRole & RemoteWorkExtent & RemoteWorkSupport & Productivity\\\\\n",
       " <dbl{[},1{]}> & <fct> & <dbl{[},1{]}> & <fct> & <fct> & <fct> & <dbl{[},1{]}> & <dbl{[},1{]}> & <dbl{[},1{]}> & <dbl{[},1{]}> & ⋯ & <dbl{[},1{]}> & <dbl{[},1{]}> & <dbl{[},1{]}> & <fct> & <dbl{[},1{]}> & <dbl{[},1{]}> & <fct> & <dbl{[},1{]}> & <dbl{[},1{]}> & <dbl{[},1{]}>\\\\\n",
       "\\hline\n",
       "\t  0.25489190 & Male   &  0.9403261 & Other Services                    & Couple with dependent children            & Metro    & -1.1175702 & -0.61964823 &  1.3719844 & -0.2207096 & ⋯ & -0.166609 &  0.01176681 &  1.2139968 & 3 &  0.7859694 & -0.5502987 & No  &  0.004252265 &  1.0535760 &  1.0775389\\\\\n",
       "\t  0.67971175 & Male   &  0.9403261 & Construction                      & Couple with no dependent children         & Metro    &  0.1261208 & -0.26621209 &  1.3719844 &  1.5534631 & ⋯ & -0.166609 &  0.01176681 & -0.1433854 & 2 & -0.5255189 & -0.5502987 & No  & -1.203391119 & -0.5638055 &  1.0775389\\\\\n",
       "\t  0.08496397 & Female & -2.0368490 & Financial and Insurance           & Single person                             & Metro    & -1.1175702 & -0.61964823 & -0.2026512 &  0.6663767 & ⋯ &  1.258600 &  1.40417235 & -0.1433854 & 3 & -0.5255189 & -1.9432116 & No  &  1.211895650 &  1.0535760 & -0.4822014\\\\\n",
       "\t  1.44438746 & Female & -0.5482615 & Health Care and Social Assistance & One parent family with dependent children & Regional & -1.1175702 &  0.79409634 & -0.2026512 & -1.9948822 & ⋯ & -1.591818 & -1.38063873 & -1.5007676 & 3 &  0.7859694 &  0.8426142 & Yes &  0.004252265 & -0.5638055 &  1.0775389\\\\\n",
       "\t -0.50978381 & Male   & -0.5482615 & Manufacturing                     & Couple with dependent children            & Metro    &  0.1261208 &  0.08722406 & -0.2026512 &  1.5534631 & ⋯ & -0.166609 &  0.01176681 & -0.1433854 & 2 & -0.5255189 & -0.5502987 & No  &  0.004252265 & -0.5638055 & -0.4822014\\\\\n",
       "\t  0.50978381 & Male   &  0.9403261 & Public Administration and Safety  & Couple with dependent children            & Metro    & -1.1175702 &  0.08722406 & -0.2026512 & -0.2207096 & ⋯ &  1.258600 &  0.01176681 & -0.1433854 & 3 &  0.7859694 &  0.8426142 & Yes &  1.211895650 & -0.5638055 & -0.4822014\\\\\n",
       "\\end{tabular}\n"
      ],
      "text/markdown": [
       "\n",
       "A tibble: 6 × 25\n",
       "\n",
       "| Age &lt;dbl[,1]&gt; | Gender &lt;fct&gt; | Experience &lt;dbl[,1]&gt; | Industry &lt;fct&gt; | FamilyStatus &lt;fct&gt; | Location &lt;fct&gt; | InterpersonalRelationships &lt;dbl[,1]&gt; | Commuting &lt;dbl[,1]&gt; | WorkEfficiency &lt;dbl[,1]&gt; | Housework &lt;dbl[,1]&gt; | ⋯ ⋯ | Motivation &lt;dbl[,1]&gt; | PhysicalEnvironment &lt;dbl[,1]&gt; | Wellbeing &lt;dbl[,1]&gt; | MentalHealth &lt;fct&gt; | PhysicalHealth &lt;dbl[,1]&gt; | Sociability &lt;dbl[,1]&gt; | ManagingRole &lt;fct&gt; | RemoteWorkExtent &lt;dbl[,1]&gt; | RemoteWorkSupport &lt;dbl[,1]&gt; | Productivity &lt;dbl[,1]&gt; |\n",
       "|---|---|---|---|---|---|---|---|---|---|---|---|---|---|---|---|---|---|---|---|---|\n",
       "|  0.25489190 | Male   |  0.9403261 | Other Services                    | Couple with dependent children            | Metro    | -1.1175702 | -0.61964823 |  1.3719844 | -0.2207096 | ⋯ | -0.166609 |  0.01176681 |  1.2139968 | 3 |  0.7859694 | -0.5502987 | No  |  0.004252265 |  1.0535760 |  1.0775389 |\n",
       "|  0.67971175 | Male   |  0.9403261 | Construction                      | Couple with no dependent children         | Metro    |  0.1261208 | -0.26621209 |  1.3719844 |  1.5534631 | ⋯ | -0.166609 |  0.01176681 | -0.1433854 | 2 | -0.5255189 | -0.5502987 | No  | -1.203391119 | -0.5638055 |  1.0775389 |\n",
       "|  0.08496397 | Female | -2.0368490 | Financial and Insurance           | Single person                             | Metro    | -1.1175702 | -0.61964823 | -0.2026512 |  0.6663767 | ⋯ |  1.258600 |  1.40417235 | -0.1433854 | 3 | -0.5255189 | -1.9432116 | No  |  1.211895650 |  1.0535760 | -0.4822014 |\n",
       "|  1.44438746 | Female | -0.5482615 | Health Care and Social Assistance | One parent family with dependent children | Regional | -1.1175702 |  0.79409634 | -0.2026512 | -1.9948822 | ⋯ | -1.591818 | -1.38063873 | -1.5007676 | 3 |  0.7859694 |  0.8426142 | Yes |  0.004252265 | -0.5638055 |  1.0775389 |\n",
       "| -0.50978381 | Male   | -0.5482615 | Manufacturing                     | Couple with dependent children            | Metro    |  0.1261208 |  0.08722406 | -0.2026512 |  1.5534631 | ⋯ | -0.166609 |  0.01176681 | -0.1433854 | 2 | -0.5255189 | -0.5502987 | No  |  0.004252265 | -0.5638055 | -0.4822014 |\n",
       "|  0.50978381 | Male   |  0.9403261 | Public Administration and Safety  | Couple with dependent children            | Metro    | -1.1175702 |  0.08722406 | -0.2026512 | -0.2207096 | ⋯ |  1.258600 |  0.01176681 | -0.1433854 | 3 |  0.7859694 |  0.8426142 | Yes |  1.211895650 | -0.5638055 | -0.4822014 |\n",
       "\n"
      ],
      "text/plain": [
       "  Age         Gender Experience Industry                         \n",
       "1  0.25489190 Male    0.9403261 Other Services                   \n",
       "2  0.67971175 Male    0.9403261 Construction                     \n",
       "3  0.08496397 Female -2.0368490 Financial and Insurance          \n",
       "4  1.44438746 Female -0.5482615 Health Care and Social Assistance\n",
       "5 -0.50978381 Male   -0.5482615 Manufacturing                    \n",
       "6  0.50978381 Male    0.9403261 Public Administration and Safety \n",
       "  FamilyStatus                              Location InterpersonalRelationships\n",
       "1 Couple with dependent children            Metro    -1.1175702                \n",
       "2 Couple with no dependent children         Metro     0.1261208                \n",
       "3 Single person                             Metro    -1.1175702                \n",
       "4 One parent family with dependent children Regional -1.1175702                \n",
       "5 Couple with dependent children            Metro     0.1261208                \n",
       "6 Couple with dependent children            Metro    -1.1175702                \n",
       "  Commuting   WorkEfficiency Housework  ⋯ Motivation PhysicalEnvironment\n",
       "1 -0.61964823  1.3719844     -0.2207096 ⋯ -0.166609   0.01176681        \n",
       "2 -0.26621209  1.3719844      1.5534631 ⋯ -0.166609   0.01176681        \n",
       "3 -0.61964823 -0.2026512      0.6663767 ⋯  1.258600   1.40417235        \n",
       "4  0.79409634 -0.2026512     -1.9948822 ⋯ -1.591818  -1.38063873        \n",
       "5  0.08722406 -0.2026512      1.5534631 ⋯ -0.166609   0.01176681        \n",
       "6  0.08722406 -0.2026512     -0.2207096 ⋯  1.258600   0.01176681        \n",
       "  Wellbeing  MentalHealth PhysicalHealth Sociability ManagingRole\n",
       "1  1.2139968 3             0.7859694     -0.5502987  No          \n",
       "2 -0.1433854 2            -0.5255189     -0.5502987  No          \n",
       "3 -0.1433854 3            -0.5255189     -1.9432116  No          \n",
       "4 -1.5007676 3             0.7859694      0.8426142  Yes         \n",
       "5 -0.1433854 2            -0.5255189     -0.5502987  No          \n",
       "6 -0.1433854 3             0.7859694      0.8426142  Yes         \n",
       "  RemoteWorkExtent RemoteWorkSupport Productivity\n",
       "1  0.004252265      1.0535760         1.0775389  \n",
       "2 -1.203391119     -0.5638055         1.0775389  \n",
       "3  1.211895650      1.0535760        -0.4822014  \n",
       "4  0.004252265     -0.5638055         1.0775389  \n",
       "5  0.004252265     -0.5638055        -0.4822014  \n",
       "6  1.211895650     -0.5638055        -0.4822014  "
      ]
     },
     "metadata": {},
     "output_type": "display_data"
    },
    {
     "data": {
      "text/html": [
       "<style>\n",
       ".list-inline {list-style: none; margin:0; padding: 0}\n",
       ".list-inline>li {display: inline-block}\n",
       ".list-inline>li:not(:last-child)::after {content: \"\\00b7\"; padding: 0 .5ex}\n",
       "</style>\n",
       "<ol class=list-inline><li>1420</li><li>25</li></ol>\n"
      ],
      "text/latex": [
       "\\begin{enumerate*}\n",
       "\\item 1420\n",
       "\\item 25\n",
       "\\end{enumerate*}\n"
      ],
      "text/markdown": [
       "1. 1420\n",
       "2. 25\n",
       "\n",
       "\n"
      ],
      "text/plain": [
       "[1] 1420   25"
      ]
     },
     "metadata": {},
     "output_type": "display_data"
    }
   ],
   "source": [
    "library(randomForest)\n",
    "library(readr)\n",
    "library(dplyr)\n",
    "library(rpart)\n",
    "library(caret)\n",
    "library(nnet)\n",
    "library(vip)\n",
    "\n",
    "set.seed(42)\n",
    "\n",
    "data <- read_csv(\"nsw.csv\", show_col_types = FALSE)\n",
    "categorical_columns <- c(\n",
    "  \"Gender\", \"Industry\", \"FamilyStatus\",\n",
    "  \"Location\",  \"ManagingRole\", \"MentalHealth\"\n",
    ")\n",
    "numeric_columns <- c(\n",
    "  \"Age\", \"Experience\", \"Commuting\", \"WorkEfficiency\", \"Housework\", \"FamilyTime\",\n",
    "  \"RemoteWorkExtent\", \"RemoteWorkSupport\", \"Productivity\",\n",
    "  \"InterpersonalRelationships\", \"SocialIsolation\", \"Sleep\",\n",
    "  \"EconomicResources\", \"RemoteWorkCompatability\", \"Motivation\",\n",
    "  \"PhysicalEnvironment\", \"Wellbeing\", \"PhysicalHealth\",\n",
    "  \"Sociability\"\n",
    ")\n",
    "\n",
    "data[categorical_columns] <- lapply(data[categorical_columns], as.factor)\n",
    "data[numeric_columns] <- lapply(data[numeric_columns], as.numeric)\n",
    "data[numeric_columns] <- lapply(data[numeric_columns], scale)\n",
    "\n",
    "head(data)\n",
    "dim(data)"
   ]
  },
  {
   "cell_type": "code",
   "execution_count": 2,
   "metadata": {
    "vscode": {
     "languageId": "r"
    }
   },
   "outputs": [
    {
     "data": {
      "text/plain": [
       "\n",
       "  1   2   3 \n",
       "155 155 155 "
      ]
     },
     "metadata": {},
     "output_type": "display_data"
    }
   ],
   "source": [
    "min_class_size <- data %>%\n",
    "  count(MentalHealth) %>%\n",
    "  summarise(min_size = min(n)) %>%\n",
    "  pull(min_size)\n",
    "\n",
    "# Undersample all classes to the smallest class size\n",
    "data <- data %>%\n",
    "  group_by(MentalHealth) %>%\n",
    "  slice_sample(n = min_class_size) %>%\n",
    "  ungroup()\n",
    "\n",
    "table(data$MentalHealth)"
   ]
  },
  {
   "cell_type": "code",
   "execution_count": 3,
   "metadata": {
    "vscode": {
     "languageId": "r"
    }
   },
   "outputs": [
    {
     "data": {
      "text/plain": [
       "\n",
       "  1   2   3 \n",
       "124 124 124 "
      ]
     },
     "metadata": {},
     "output_type": "display_data"
    },
    {
     "data": {
      "text/plain": [
       "\n",
       " 1  2  3 \n",
       "31 31 31 "
      ]
     },
     "metadata": {},
     "output_type": "display_data"
    }
   ],
   "source": [
    "train_index <- createDataPartition(data$MentalHealth, p = 0.8, list = FALSE)\n",
    "train_data <- data[train_index, ]\n",
    "test_data <- data[-train_index, ]\n",
    "\n",
    "table(train_data$MentalHealth)\n",
    "table(test_data$MentalHealth)"
   ]
  },
  {
   "cell_type": "code",
   "execution_count": 4,
   "metadata": {
    "vscode": {
     "languageId": "r"
    }
   },
   "outputs": [
    {
     "name": "stdout",
     "output_type": "stream",
     "text": [
      "# weights:  144 (94 variable)\n",
      "initial  value 408.683771 \n",
      "iter  10 value 286.574853\n",
      "iter  20 value 262.762700\n",
      "iter  30 value 257.981611\n",
      "iter  40 value 256.137398\n",
      "iter  50 value 255.058335\n",
      "iter  60 value 254.459774\n",
      "iter  70 value 254.332171\n",
      "iter  80 value 254.129722\n",
      "iter  90 value 252.656116\n",
      "iter 100 value 252.653805\n",
      "final  value 252.653805 \n",
      "stopped after 100 iterations\n"
     ]
    },
    {
     "data": {
      "text/plain": [
       "Confusion Matrix and Statistics\n",
       "\n",
       "          Reference\n",
       "Prediction  1  2  3\n",
       "         1 20  9  3\n",
       "         2  9 13 12\n",
       "         3  2  9 16\n",
       "\n",
       "Overall Statistics\n",
       "                                          \n",
       "               Accuracy : 0.5269          \n",
       "                 95% CI : (0.4206, 0.6314)\n",
       "    No Information Rate : 0.3333          \n",
       "    P-Value [Acc > NIR] : 9.324e-05       \n",
       "                                          \n",
       "                  Kappa : 0.2903          \n",
       "                                          \n",
       " Mcnemar's Test P-Value : 0.8899          \n",
       "\n",
       "Statistics by Class:\n",
       "\n",
       "                     Class: 1 Class: 2 Class: 3\n",
       "Sensitivity            0.6452   0.4194   0.5161\n",
       "Specificity            0.8065   0.6613   0.8226\n",
       "Pos Pred Value         0.6250   0.3824   0.5926\n",
       "Neg Pred Value         0.8197   0.6949   0.7727\n",
       "Prevalence             0.3333   0.3333   0.3333\n",
       "Detection Rate         0.2151   0.1398   0.1720\n",
       "Detection Prevalence   0.3441   0.3656   0.2903\n",
       "Balanced Accuracy      0.7258   0.5403   0.6694"
      ]
     },
     "metadata": {},
     "output_type": "display_data"
    }
   ],
   "source": [
    "model <- multinom(MentalHealth ~ ., data = train_data)\n",
    "predicted_classes <- predict(model, test_data, type = \"class\")\n",
    "\n",
    "conf_matrix <- confusionMatrix(\n",
    "  factor(predicted_classes, levels = levels(test_data$MentalHealth)),\n",
    "  test_data$MentalHealth\n",
    ")\n",
    "conf_matrix"
   ]
  },
  {
   "cell_type": "code",
   "execution_count": 5,
   "metadata": {
    "vscode": {
     "languageId": "r"
    }
   },
   "outputs": [
    {
     "name": "stderr",
     "output_type": "stream",
     "text": [
      "Warning message in sqrt(diag(vc)):\n",
      "\"NaNs produced\"\n"
     ]
    },
    {
     "data": {
      "text/html": [
       "<table class=\"dataframe\">\n",
       "<caption>A data.frame: 47 × 2</caption>\n",
       "<thead>\n",
       "\t<tr><th></th><th scope=col>Feature</th><th scope=col>Importance</th></tr>\n",
       "\t<tr><th></th><th scope=col>&lt;chr&gt;</th><th scope=col>&lt;dbl&gt;</th></tr>\n",
       "</thead>\n",
       "<tbody>\n",
       "\t<tr><th scope=row>IndustryMining</th><td>IndustryMining                                       </td><td>358.9691305</td></tr>\n",
       "\t<tr><th scope=row>IndustryRental, Hiring and Real Estate</th><td>IndustryRental, Hiring and Real Estate               </td><td>261.8592042</td></tr>\n",
       "\t<tr><th scope=row>IndustryElectricity, Gas, Water and Waste</th><td>IndustryElectricity, Gas, Water and Waste            </td><td>243.8007126</td></tr>\n",
       "\t<tr><th scope=row>IndustryWholesale Trade</th><td>IndustryWholesale Trade                              </td><td>105.1734496</td></tr>\n",
       "\t<tr><th scope=row>IndustryConstruction</th><td>IndustryConstruction                                 </td><td>105.0715194</td></tr>\n",
       "\t<tr><th scope=row>IndustryAgriculture, Forestry and Fishing</th><td>IndustryAgriculture, Forestry and Fishing            </td><td>104.6238553</td></tr>\n",
       "\t<tr><th scope=row>IndustryEducation and Training</th><td>IndustryEducation and Training                       </td><td>104.5452116</td></tr>\n",
       "\t<tr><th scope=row>IndustryManufacturing</th><td>IndustryManufacturing                                </td><td>104.1903668</td></tr>\n",
       "\t<tr><th scope=row>IndustryInformation Media and Telecommunications</th><td>IndustryInformation Media and Telecommunications     </td><td>103.9774393</td></tr>\n",
       "\t<tr><th scope=row>IndustryAdministrative and Support</th><td>IndustryAdministrative and Support                   </td><td>103.8742920</td></tr>\n",
       "\t<tr><th scope=row>IndustryOther Services</th><td>IndustryOther Services                               </td><td>103.8668219</td></tr>\n",
       "\t<tr><th scope=row>IndustryProfessional, Scientific and Technical</th><td>IndustryProfessional, Scientific and Technical       </td><td>103.6561237</td></tr>\n",
       "\t<tr><th scope=row>IndustryTransport, Postal and Warehousing</th><td>IndustryTransport, Postal and Warehousing            </td><td>103.6003427</td></tr>\n",
       "\t<tr><th scope=row>IndustryHealth Care and Social Assistance</th><td>IndustryHealth Care and Social Assistance            </td><td>103.5249731</td></tr>\n",
       "\t<tr><th scope=row>(Intercept)</th><td>(Intercept)                                          </td><td>103.5186299</td></tr>\n",
       "\t<tr><th scope=row>IndustryArts and Recreation</th><td>IndustryArts and Recreation                          </td><td>103.5180482</td></tr>\n",
       "\t<tr><th scope=row>IndustryFinancial and Insurance</th><td>IndustryFinancial and Insurance                      </td><td>103.4742429</td></tr>\n",
       "\t<tr><th scope=row>IndustryRetail Trade</th><td>IndustryRetail Trade                                 </td><td>103.3721526</td></tr>\n",
       "\t<tr><th scope=row>IndustryPublic Administration and Safety</th><td>IndustryPublic Administration and Safety             </td><td>103.1408642</td></tr>\n",
       "\t<tr><th scope=row>FamilyTime</th><td>FamilyTime                                           </td><td> 50.9796715</td></tr>\n",
       "\t<tr><th scope=row>Commuting</th><td>Commuting                                            </td><td> 50.9037338</td></tr>\n",
       "\t<tr><th scope=row>WorkEfficiency</th><td>WorkEfficiency                                       </td><td> 45.6886564</td></tr>\n",
       "\t<tr><th scope=row>Housework</th><td>Housework                                            </td><td> 40.6539829</td></tr>\n",
       "\t<tr><th scope=row>Sleep</th><td>Sleep                                                </td><td> 38.1868281</td></tr>\n",
       "\t<tr><th scope=row>FamilyStatusMultiple family household</th><td>FamilyStatusMultiple family household                </td><td>  2.6895478</td></tr>\n",
       "\t<tr><th scope=row>PhysicalHealth</th><td>PhysicalHealth                                       </td><td>  1.6210778</td></tr>\n",
       "\t<tr><th scope=row>FamilyStatusGroup household</th><td>FamilyStatusGroup household                          </td><td>  1.4475480</td></tr>\n",
       "\t<tr><th scope=row>FamilyStatusSingle person</th><td>FamilyStatusSingle person                            </td><td>  1.1056707</td></tr>\n",
       "\t<tr><th scope=row>RemoteWorkSupport</th><td>RemoteWorkSupport                                    </td><td>  0.7572914</td></tr>\n",
       "\t<tr><th scope=row>FamilyStatusCouple with no dependent children</th><td>FamilyStatusCouple with no dependent children        </td><td>  0.6765525</td></tr>\n",
       "\t<tr><th scope=row>GenderMale</th><td>GenderMale                                           </td><td>  0.5709062</td></tr>\n",
       "\t<tr><th scope=row>Wellbeing</th><td>Wellbeing                                            </td><td>  0.5278411</td></tr>\n",
       "\t<tr><th scope=row>Productivity</th><td>Productivity                                         </td><td>  0.4921069</td></tr>\n",
       "\t<tr><th scope=row>FamilyStatusOther one family household</th><td>FamilyStatusOther one family household               </td><td>  0.4253756</td></tr>\n",
       "\t<tr><th scope=row>InterpersonalRelationships</th><td>InterpersonalRelationships                           </td><td>  0.3882671</td></tr>\n",
       "\t<tr><th scope=row>Sociability</th><td>Sociability                                          </td><td>  0.3739946</td></tr>\n",
       "\t<tr><th scope=row>Experience</th><td>Experience                                           </td><td>  0.3502783</td></tr>\n",
       "\t<tr><th scope=row>Age</th><td>Age                                                  </td><td>  0.3216572</td></tr>\n",
       "\t<tr><th scope=row>RemoteWorkCompatability</th><td>RemoteWorkCompatability                              </td><td>  0.3151005</td></tr>\n",
       "\t<tr><th scope=row>RemoteWorkExtent</th><td>RemoteWorkExtent                                     </td><td>  0.2735415</td></tr>\n",
       "\t<tr><th scope=row>LocationRegional</th><td>LocationRegional                                     </td><td>  0.2501080</td></tr>\n",
       "\t<tr><th scope=row>ManagingRoleYes</th><td>ManagingRoleYes                                      </td><td>  0.2305402</td></tr>\n",
       "\t<tr><th scope=row>FamilyStatusOne parent family with dependent children</th><td>FamilyStatusOne parent family with dependent children</td><td>  0.2152004</td></tr>\n",
       "\t<tr><th scope=row>SocialIsolation</th><td>SocialIsolation                                      </td><td>  0.2100876</td></tr>\n",
       "\t<tr><th scope=row>PhysicalEnvironment</th><td>PhysicalEnvironment                                  </td><td>  0.1590403</td></tr>\n",
       "\t<tr><th scope=row>Motivation</th><td>Motivation                                           </td><td>  0.1552246</td></tr>\n",
       "\t<tr><th scope=row>EconomicResources</th><td>EconomicResources                                    </td><td>  0.1176179</td></tr>\n",
       "</tbody>\n",
       "</table>\n"
      ],
      "text/latex": [
       "A data.frame: 47 × 2\n",
       "\\begin{tabular}{r|ll}\n",
       "  & Feature & Importance\\\\\n",
       "  & <chr> & <dbl>\\\\\n",
       "\\hline\n",
       "\tIndustryMining & IndustryMining                                        & 358.9691305\\\\\n",
       "\tIndustryRental, Hiring and Real Estate & IndustryRental, Hiring and Real Estate                & 261.8592042\\\\\n",
       "\tIndustryElectricity, Gas, Water and Waste & IndustryElectricity, Gas, Water and Waste             & 243.8007126\\\\\n",
       "\tIndustryWholesale Trade & IndustryWholesale Trade                               & 105.1734496\\\\\n",
       "\tIndustryConstruction & IndustryConstruction                                  & 105.0715194\\\\\n",
       "\tIndustryAgriculture, Forestry and Fishing & IndustryAgriculture, Forestry and Fishing             & 104.6238553\\\\\n",
       "\tIndustryEducation and Training & IndustryEducation and Training                        & 104.5452116\\\\\n",
       "\tIndustryManufacturing & IndustryManufacturing                                 & 104.1903668\\\\\n",
       "\tIndustryInformation Media and Telecommunications & IndustryInformation Media and Telecommunications      & 103.9774393\\\\\n",
       "\tIndustryAdministrative and Support & IndustryAdministrative and Support                    & 103.8742920\\\\\n",
       "\tIndustryOther Services & IndustryOther Services                                & 103.8668219\\\\\n",
       "\tIndustryProfessional, Scientific and Technical & IndustryProfessional, Scientific and Technical        & 103.6561237\\\\\n",
       "\tIndustryTransport, Postal and Warehousing & IndustryTransport, Postal and Warehousing             & 103.6003427\\\\\n",
       "\tIndustryHealth Care and Social Assistance & IndustryHealth Care and Social Assistance             & 103.5249731\\\\\n",
       "\t(Intercept) & (Intercept)                                           & 103.5186299\\\\\n",
       "\tIndustryArts and Recreation & IndustryArts and Recreation                           & 103.5180482\\\\\n",
       "\tIndustryFinancial and Insurance & IndustryFinancial and Insurance                       & 103.4742429\\\\\n",
       "\tIndustryRetail Trade & IndustryRetail Trade                                  & 103.3721526\\\\\n",
       "\tIndustryPublic Administration and Safety & IndustryPublic Administration and Safety              & 103.1408642\\\\\n",
       "\tFamilyTime & FamilyTime                                            &  50.9796715\\\\\n",
       "\tCommuting & Commuting                                             &  50.9037338\\\\\n",
       "\tWorkEfficiency & WorkEfficiency                                        &  45.6886564\\\\\n",
       "\tHousework & Housework                                             &  40.6539829\\\\\n",
       "\tSleep & Sleep                                                 &  38.1868281\\\\\n",
       "\tFamilyStatusMultiple family household & FamilyStatusMultiple family household                 &   2.6895478\\\\\n",
       "\tPhysicalHealth & PhysicalHealth                                        &   1.6210778\\\\\n",
       "\tFamilyStatusGroup household & FamilyStatusGroup household                           &   1.4475480\\\\\n",
       "\tFamilyStatusSingle person & FamilyStatusSingle person                             &   1.1056707\\\\\n",
       "\tRemoteWorkSupport & RemoteWorkSupport                                     &   0.7572914\\\\\n",
       "\tFamilyStatusCouple with no dependent children & FamilyStatusCouple with no dependent children         &   0.6765525\\\\\n",
       "\tGenderMale & GenderMale                                            &   0.5709062\\\\\n",
       "\tWellbeing & Wellbeing                                             &   0.5278411\\\\\n",
       "\tProductivity & Productivity                                          &   0.4921069\\\\\n",
       "\tFamilyStatusOther one family household & FamilyStatusOther one family household                &   0.4253756\\\\\n",
       "\tInterpersonalRelationships & InterpersonalRelationships                            &   0.3882671\\\\\n",
       "\tSociability & Sociability                                           &   0.3739946\\\\\n",
       "\tExperience & Experience                                            &   0.3502783\\\\\n",
       "\tAge & Age                                                   &   0.3216572\\\\\n",
       "\tRemoteWorkCompatability & RemoteWorkCompatability                               &   0.3151005\\\\\n",
       "\tRemoteWorkExtent & RemoteWorkExtent                                      &   0.2735415\\\\\n",
       "\tLocationRegional & LocationRegional                                      &   0.2501080\\\\\n",
       "\tManagingRoleYes & ManagingRoleYes                                       &   0.2305402\\\\\n",
       "\tFamilyStatusOne parent family with dependent children & FamilyStatusOne parent family with dependent children &   0.2152004\\\\\n",
       "\tSocialIsolation & SocialIsolation                                       &   0.2100876\\\\\n",
       "\tPhysicalEnvironment & PhysicalEnvironment                                   &   0.1590403\\\\\n",
       "\tMotivation & Motivation                                            &   0.1552246\\\\\n",
       "\tEconomicResources & EconomicResources                                     &   0.1176179\\\\\n",
       "\\end{tabular}\n"
      ],
      "text/markdown": [
       "\n",
       "A data.frame: 47 × 2\n",
       "\n",
       "| <!--/--> | Feature &lt;chr&gt; | Importance &lt;dbl&gt; |\n",
       "|---|---|---|\n",
       "| IndustryMining | IndustryMining                                        | 358.9691305 |\n",
       "| IndustryRental, Hiring and Real Estate | IndustryRental, Hiring and Real Estate                | 261.8592042 |\n",
       "| IndustryElectricity, Gas, Water and Waste | IndustryElectricity, Gas, Water and Waste             | 243.8007126 |\n",
       "| IndustryWholesale Trade | IndustryWholesale Trade                               | 105.1734496 |\n",
       "| IndustryConstruction | IndustryConstruction                                  | 105.0715194 |\n",
       "| IndustryAgriculture, Forestry and Fishing | IndustryAgriculture, Forestry and Fishing             | 104.6238553 |\n",
       "| IndustryEducation and Training | IndustryEducation and Training                        | 104.5452116 |\n",
       "| IndustryManufacturing | IndustryManufacturing                                 | 104.1903668 |\n",
       "| IndustryInformation Media and Telecommunications | IndustryInformation Media and Telecommunications      | 103.9774393 |\n",
       "| IndustryAdministrative and Support | IndustryAdministrative and Support                    | 103.8742920 |\n",
       "| IndustryOther Services | IndustryOther Services                                | 103.8668219 |\n",
       "| IndustryProfessional, Scientific and Technical | IndustryProfessional, Scientific and Technical        | 103.6561237 |\n",
       "| IndustryTransport, Postal and Warehousing | IndustryTransport, Postal and Warehousing             | 103.6003427 |\n",
       "| IndustryHealth Care and Social Assistance | IndustryHealth Care and Social Assistance             | 103.5249731 |\n",
       "| (Intercept) | (Intercept)                                           | 103.5186299 |\n",
       "| IndustryArts and Recreation | IndustryArts and Recreation                           | 103.5180482 |\n",
       "| IndustryFinancial and Insurance | IndustryFinancial and Insurance                       | 103.4742429 |\n",
       "| IndustryRetail Trade | IndustryRetail Trade                                  | 103.3721526 |\n",
       "| IndustryPublic Administration and Safety | IndustryPublic Administration and Safety              | 103.1408642 |\n",
       "| FamilyTime | FamilyTime                                            |  50.9796715 |\n",
       "| Commuting | Commuting                                             |  50.9037338 |\n",
       "| WorkEfficiency | WorkEfficiency                                        |  45.6886564 |\n",
       "| Housework | Housework                                             |  40.6539829 |\n",
       "| Sleep | Sleep                                                 |  38.1868281 |\n",
       "| FamilyStatusMultiple family household | FamilyStatusMultiple family household                 |   2.6895478 |\n",
       "| PhysicalHealth | PhysicalHealth                                        |   1.6210778 |\n",
       "| FamilyStatusGroup household | FamilyStatusGroup household                           |   1.4475480 |\n",
       "| FamilyStatusSingle person | FamilyStatusSingle person                             |   1.1056707 |\n",
       "| RemoteWorkSupport | RemoteWorkSupport                                     |   0.7572914 |\n",
       "| FamilyStatusCouple with no dependent children | FamilyStatusCouple with no dependent children         |   0.6765525 |\n",
       "| GenderMale | GenderMale                                            |   0.5709062 |\n",
       "| Wellbeing | Wellbeing                                             |   0.5278411 |\n",
       "| Productivity | Productivity                                          |   0.4921069 |\n",
       "| FamilyStatusOther one family household | FamilyStatusOther one family household                |   0.4253756 |\n",
       "| InterpersonalRelationships | InterpersonalRelationships                            |   0.3882671 |\n",
       "| Sociability | Sociability                                           |   0.3739946 |\n",
       "| Experience | Experience                                            |   0.3502783 |\n",
       "| Age | Age                                                   |   0.3216572 |\n",
       "| RemoteWorkCompatability | RemoteWorkCompatability                               |   0.3151005 |\n",
       "| RemoteWorkExtent | RemoteWorkExtent                                      |   0.2735415 |\n",
       "| LocationRegional | LocationRegional                                      |   0.2501080 |\n",
       "| ManagingRoleYes | ManagingRoleYes                                       |   0.2305402 |\n",
       "| FamilyStatusOne parent family with dependent children | FamilyStatusOne parent family with dependent children |   0.2152004 |\n",
       "| SocialIsolation | SocialIsolation                                       |   0.2100876 |\n",
       "| PhysicalEnvironment | PhysicalEnvironment                                   |   0.1590403 |\n",
       "| Motivation | Motivation                                            |   0.1552246 |\n",
       "| EconomicResources | EconomicResources                                     |   0.1176179 |\n",
       "\n"
      ],
      "text/plain": [
       "                                                      Feature                                              \n",
       "IndustryMining                                        IndustryMining                                       \n",
       "IndustryRental, Hiring and Real Estate                IndustryRental, Hiring and Real Estate               \n",
       "IndustryElectricity, Gas, Water and Waste             IndustryElectricity, Gas, Water and Waste            \n",
       "IndustryWholesale Trade                               IndustryWholesale Trade                              \n",
       "IndustryConstruction                                  IndustryConstruction                                 \n",
       "IndustryAgriculture, Forestry and Fishing             IndustryAgriculture, Forestry and Fishing            \n",
       "IndustryEducation and Training                        IndustryEducation and Training                       \n",
       "IndustryManufacturing                                 IndustryManufacturing                                \n",
       "IndustryInformation Media and Telecommunications      IndustryInformation Media and Telecommunications     \n",
       "IndustryAdministrative and Support                    IndustryAdministrative and Support                   \n",
       "IndustryOther Services                                IndustryOther Services                               \n",
       "IndustryProfessional, Scientific and Technical        IndustryProfessional, Scientific and Technical       \n",
       "IndustryTransport, Postal and Warehousing             IndustryTransport, Postal and Warehousing            \n",
       "IndustryHealth Care and Social Assistance             IndustryHealth Care and Social Assistance            \n",
       "(Intercept)                                           (Intercept)                                          \n",
       "IndustryArts and Recreation                           IndustryArts and Recreation                          \n",
       "IndustryFinancial and Insurance                       IndustryFinancial and Insurance                      \n",
       "IndustryRetail Trade                                  IndustryRetail Trade                                 \n",
       "IndustryPublic Administration and Safety              IndustryPublic Administration and Safety             \n",
       "FamilyTime                                            FamilyTime                                           \n",
       "Commuting                                             Commuting                                            \n",
       "WorkEfficiency                                        WorkEfficiency                                       \n",
       "Housework                                             Housework                                            \n",
       "Sleep                                                 Sleep                                                \n",
       "FamilyStatusMultiple family household                 FamilyStatusMultiple family household                \n",
       "PhysicalHealth                                        PhysicalHealth                                       \n",
       "FamilyStatusGroup household                           FamilyStatusGroup household                          \n",
       "FamilyStatusSingle person                             FamilyStatusSingle person                            \n",
       "RemoteWorkSupport                                     RemoteWorkSupport                                    \n",
       "FamilyStatusCouple with no dependent children         FamilyStatusCouple with no dependent children        \n",
       "GenderMale                                            GenderMale                                           \n",
       "Wellbeing                                             Wellbeing                                            \n",
       "Productivity                                          Productivity                                         \n",
       "FamilyStatusOther one family household                FamilyStatusOther one family household               \n",
       "InterpersonalRelationships                            InterpersonalRelationships                           \n",
       "Sociability                                           Sociability                                          \n",
       "Experience                                            Experience                                           \n",
       "Age                                                   Age                                                  \n",
       "RemoteWorkCompatability                               RemoteWorkCompatability                              \n",
       "RemoteWorkExtent                                      RemoteWorkExtent                                     \n",
       "LocationRegional                                      LocationRegional                                     \n",
       "ManagingRoleYes                                       ManagingRoleYes                                      \n",
       "FamilyStatusOne parent family with dependent children FamilyStatusOne parent family with dependent children\n",
       "SocialIsolation                                       SocialIsolation                                      \n",
       "PhysicalEnvironment                                   PhysicalEnvironment                                  \n",
       "Motivation                                            Motivation                                           \n",
       "EconomicResources                                     EconomicResources                                    \n",
       "                                                      Importance \n",
       "IndustryMining                                        358.9691305\n",
       "IndustryRental, Hiring and Real Estate                261.8592042\n",
       "IndustryElectricity, Gas, Water and Waste             243.8007126\n",
       "IndustryWholesale Trade                               105.1734496\n",
       "IndustryConstruction                                  105.0715194\n",
       "IndustryAgriculture, Forestry and Fishing             104.6238553\n",
       "IndustryEducation and Training                        104.5452116\n",
       "IndustryManufacturing                                 104.1903668\n",
       "IndustryInformation Media and Telecommunications      103.9774393\n",
       "IndustryAdministrative and Support                    103.8742920\n",
       "IndustryOther Services                                103.8668219\n",
       "IndustryProfessional, Scientific and Technical        103.6561237\n",
       "IndustryTransport, Postal and Warehousing             103.6003427\n",
       "IndustryHealth Care and Social Assistance             103.5249731\n",
       "(Intercept)                                           103.5186299\n",
       "IndustryArts and Recreation                           103.5180482\n",
       "IndustryFinancial and Insurance                       103.4742429\n",
       "IndustryRetail Trade                                  103.3721526\n",
       "IndustryPublic Administration and Safety              103.1408642\n",
       "FamilyTime                                             50.9796715\n",
       "Commuting                                              50.9037338\n",
       "WorkEfficiency                                         45.6886564\n",
       "Housework                                              40.6539829\n",
       "Sleep                                                  38.1868281\n",
       "FamilyStatusMultiple family household                   2.6895478\n",
       "PhysicalHealth                                          1.6210778\n",
       "FamilyStatusGroup household                             1.4475480\n",
       "FamilyStatusSingle person                               1.1056707\n",
       "RemoteWorkSupport                                       0.7572914\n",
       "FamilyStatusCouple with no dependent children           0.6765525\n",
       "GenderMale                                              0.5709062\n",
       "Wellbeing                                               0.5278411\n",
       "Productivity                                            0.4921069\n",
       "FamilyStatusOther one family household                  0.4253756\n",
       "InterpersonalRelationships                              0.3882671\n",
       "Sociability                                             0.3739946\n",
       "Experience                                              0.3502783\n",
       "Age                                                     0.3216572\n",
       "RemoteWorkCompatability                                 0.3151005\n",
       "RemoteWorkExtent                                        0.2735415\n",
       "LocationRegional                                        0.2501080\n",
       "ManagingRoleYes                                         0.2305402\n",
       "FamilyStatusOne parent family with dependent children   0.2152004\n",
       "SocialIsolation                                         0.2100876\n",
       "PhysicalEnvironment                                     0.1590403\n",
       "Motivation                                              0.1552246\n",
       "EconomicResources                                       0.1176179"
      ]
     },
     "metadata": {},
     "output_type": "display_data"
    }
   ],
   "source": [
    "coeffs <- summary(model)$coefficients\n",
    "\n",
    "# Average absolute value of coefficients for each feature across classes\n",
    "feature_influence <- apply(abs(coeffs), 2, mean)\n",
    "\n",
    "# Rank the features by their average magnitude to find the most influential ones\n",
    "feature_influence_df <- data.frame(\n",
    "  Feature = names(feature_influence),\n",
    "  Importance = feature_influence\n",
    ")\n",
    "\n",
    "# Sort features by their importance\n",
    "feature_influence_df <- feature_influence_df[\n",
    "  order(-feature_influence_df$Importance),\n",
    "]\n",
    "feature_influence_df"
   ]
  },
  {
   "cell_type": "code",
   "execution_count": 6,
   "metadata": {
    "vscode": {
     "languageId": "r"
    }
   },
   "outputs": [
    {
     "data": {
      "image/png": "[encoded data removed]",
      "text/plain": [
       "plot without title"
      ]
     },
     "metadata": {
      "image/png": {
       "height": 420,
       "width": 420
      }
     },
     "output_type": "display_data"
    }
   ],
   "source": [
    "ggplot(data = test_data, aes(x = predicted_classes, fill = MentalHealth)) +\n",
    "  geom_bar(position = \"dodge\") +\n",
    "  labs(title = \"Predicted vs Actual Mental Health Classes\")"
   ]
  },
  {
   "cell_type": "code",
   "execution_count": 7,
   "metadata": {
    "vscode": {
     "languageId": "r"
    }
   },
   "outputs": [
    {
     "data": {
      "text/plain": [
       "Confusion Matrix and Statistics\n",
       "\n",
       "          Reference\n",
       "Prediction  1  2  3\n",
       "         1 21  6  4\n",
       "         2  7 19  8\n",
       "         3  3  6 19\n",
       "\n",
       "Overall Statistics\n",
       "                                          \n",
       "               Accuracy : 0.6344          \n",
       "                 95% CI : (0.5281, 0.7319)\n",
       "    No Information Rate : 0.3333          \n",
       "    P-Value [Acc > NIR] : 2.855e-09       \n",
       "                                          \n",
       "                  Kappa : 0.4516          \n",
       "                                          \n",
       " Mcnemar's Test P-Value : 0.9177          \n",
       "\n",
       "Statistics by Class:\n",
       "\n",
       "                     Class: 1 Class: 2 Class: 3\n",
       "Sensitivity            0.6774   0.6129   0.6129\n",
       "Specificity            0.8387   0.7581   0.8548\n",
       "Pos Pred Value         0.6774   0.5588   0.6786\n",
       "Neg Pred Value         0.8387   0.7966   0.8154\n",
       "Prevalence             0.3333   0.3333   0.3333\n",
       "Detection Rate         0.2258   0.2043   0.2043\n",
       "Detection Prevalence   0.3333   0.3656   0.3011\n",
       "Balanced Accuracy      0.7581   0.6855   0.7339"
      ]
     },
     "metadata": {},
     "output_type": "display_data"
    }
   ],
   "source": [
    "rf_model <- randomForest(MentalHealth ~ ., data = train_data)\n",
    "rf_predictions <- predict(rf_model, test_data)\n",
    "rf_conf_matrix <- confusionMatrix(rf_predictions, test_data$MentalHealth)\n",
    "rf_conf_matrix"
   ]
  },
  {
   "cell_type": "code",
   "execution_count": 8,
   "metadata": {
    "vscode": {
     "languageId": "r"
    }
   },
   "outputs": [
    {
     "data": {
      "image/png": "[encoded data removed]",
      "text/plain": [
       "plot without title"
      ]
     },
     "metadata": {
      "image/png": {
       "height": 420,
       "width": 420
      }
     },
     "output_type": "display_data"
    }
   ],
   "source": [
    "ggplot(data = test_data, aes(x = rf_predictions, fill = MentalHealth)) +\n",
    "  geom_bar(position = \"dodge\") +\n",
    "  labs(title = \"Predicted vs Actual Mental Health Classes\")"
   ]
  }
 ],
 "metadata": {
  "kernelspec": {
   "display_name": "R",
   "language": "R",
   "name": "ir"
  },
  "language_info": {
   "codemirror_mode": "r",
   "file_extension": ".r",
   "mimetype": "text/x-r-source",
   "name": "R",
   "pygments_lexer": "r",
   "version": "4.3.2"
  }
 },
 "nbformat": 4,
 "nbformat_minor": 2
}
