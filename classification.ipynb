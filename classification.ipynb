{
 "cells": [
  {
   "cell_type": "code",
   "execution_count": 78,
   "metadata": {
    "vscode": {
     "languageId": "r"
    }
   },
   "outputs": [
    {
     "data": {
      "text/html": [
       "<table class=\"dataframe\">\n",
       "<caption>A tibble: 6 × 25</caption>\n",
       "<thead>\n",
       "\t<tr><th scope=col>Age</th><th scope=col>Gender</th><th scope=col>Experience</th><th scope=col>Industry</th><th scope=col>FamilyStatus</th><th scope=col>Location</th><th scope=col>InterpersonalRelationships</th><th scope=col>Commuting</th><th scope=col>WorkEfficiency</th><th scope=col>Housework</th><th scope=col>⋯</th><th scope=col>Motivation</th><th scope=col>PhysicalEnvironment</th><th scope=col>Wellbeing</th><th scope=col>MentalHealth</th><th scope=col>PhysicalHealth</th><th scope=col>Sociability</th><th scope=col>ManagingRole</th><th scope=col>RemoteWorkExtent</th><th scope=col>RemoteWorkSupport</th><th scope=col>Productivity</th></tr>\n",
       "\t<tr><th scope=col>&lt;dbl[,1]&gt;</th><th scope=col>&lt;fct&gt;</th><th scope=col>&lt;fct&gt;</th><th scope=col>&lt;fct&gt;</th><th scope=col>&lt;fct&gt;</th><th scope=col>&lt;fct&gt;</th><th scope=col>&lt;fct&gt;</th><th scope=col>&lt;dbl[,1]&gt;</th><th scope=col>&lt;dbl[,1]&gt;</th><th scope=col>&lt;dbl[,1]&gt;</th><th scope=col>⋯</th><th scope=col>&lt;fct&gt;</th><th scope=col>&lt;fct&gt;</th><th scope=col>&lt;fct&gt;</th><th scope=col>&lt;fct&gt;</th><th scope=col>&lt;fct&gt;</th><th scope=col>&lt;fct&gt;</th><th scope=col>&lt;fct&gt;</th><th scope=col>&lt;fct&gt;</th><th scope=col>&lt;fct&gt;</th><th scope=col>&lt;fct&gt;</th></tr>\n",
       "</thead>\n",
       "<tbody>\n",
       "\t<tr><td> 0.25489190</td><td>Male  </td><td>3</td><td>Other Services                   </td><td>Couple with dependent children           </td><td>Metro   </td><td>1</td><td>-0.61964823</td><td> 1.3719844</td><td>-0.2207096</td><td>⋯</td><td>2</td><td>2</td><td>3</td><td>3</td><td>3</td><td>2</td><td>No </td><td>2</td><td>3</td><td>3</td></tr>\n",
       "\t<tr><td> 0.67971175</td><td>Male  </td><td>3</td><td>Construction                     </td><td>Couple with no dependent children        </td><td>Metro   </td><td>2</td><td>-0.26621209</td><td> 1.3719844</td><td> 1.5534631</td><td>⋯</td><td>2</td><td>2</td><td>2</td><td>2</td><td>2</td><td>2</td><td>No </td><td>1</td><td>2</td><td>3</td></tr>\n",
       "\t<tr><td> 0.08496397</td><td>Female</td><td>1</td><td>Financial and Insurance          </td><td>Single person                            </td><td>Metro   </td><td>1</td><td>-0.61964823</td><td>-0.2026512</td><td> 0.6663767</td><td>⋯</td><td>3</td><td>3</td><td>2</td><td>3</td><td>2</td><td>1</td><td>No </td><td>3</td><td>3</td><td>2</td></tr>\n",
       "\t<tr><td> 1.44438746</td><td>Female</td><td>2</td><td>Health Care and Social Assistance</td><td>One parent family with dependent children</td><td>Regional</td><td>1</td><td> 0.79409634</td><td>-0.2026512</td><td>-1.9948822</td><td>⋯</td><td>1</td><td>1</td><td>1</td><td>3</td><td>3</td><td>3</td><td>Yes</td><td>2</td><td>2</td><td>3</td></tr>\n",
       "\t<tr><td>-0.50978381</td><td>Male  </td><td>2</td><td>Manufacturing                    </td><td>Couple with dependent children           </td><td>Metro   </td><td>2</td><td> 0.08722406</td><td>-0.2026512</td><td> 1.5534631</td><td>⋯</td><td>2</td><td>2</td><td>2</td><td>2</td><td>2</td><td>2</td><td>No </td><td>2</td><td>2</td><td>2</td></tr>\n",
       "\t<tr><td> 0.50978381</td><td>Male  </td><td>3</td><td>Public Administration and Safety </td><td>Couple with dependent children           </td><td>Metro   </td><td>1</td><td> 0.08722406</td><td>-0.2026512</td><td>-0.2207096</td><td>⋯</td><td>3</td><td>2</td><td>2</td><td>3</td><td>3</td><td>3</td><td>Yes</td><td>3</td><td>2</td><td>2</td></tr>\n",
       "</tbody>\n",
       "</table>\n"
      ],
      "text/latex": [
       "A tibble: 6 × 25\n",
       "\\begin{tabular}{lllllllllllllllllllll}\n",
       " Age & Gender & Experience & Industry & FamilyStatus & Location & InterpersonalRelationships & Commuting & WorkEfficiency & Housework & ⋯ & Motivation & PhysicalEnvironment & Wellbeing & MentalHealth & PhysicalHealth & Sociability & ManagingRole & RemoteWorkExtent & RemoteWorkSupport & Productivity\\\\\n",
       " <dbl{[},1{]}> & <fct> & <fct> & <fct> & <fct> & <fct> & <fct> & <dbl{[},1{]}> & <dbl{[},1{]}> & <dbl{[},1{]}> & ⋯ & <fct> & <fct> & <fct> & <fct> & <fct> & <fct> & <fct> & <fct> & <fct> & <fct>\\\\\n",
       "\\hline\n",
       "\t  0.25489190 & Male   & 3 & Other Services                    & Couple with dependent children            & Metro    & 1 & -0.61964823 &  1.3719844 & -0.2207096 & ⋯ & 2 & 2 & 3 & 3 & 3 & 2 & No  & 2 & 3 & 3\\\\\n",
       "\t  0.67971175 & Male   & 3 & Construction                      & Couple with no dependent children         & Metro    & 2 & -0.26621209 &  1.3719844 &  1.5534631 & ⋯ & 2 & 2 & 2 & 2 & 2 & 2 & No  & 1 & 2 & 3\\\\\n",
       "\t  0.08496397 & Female & 1 & Financial and Insurance           & Single person                             & Metro    & 1 & -0.61964823 & -0.2026512 &  0.6663767 & ⋯ & 3 & 3 & 2 & 3 & 2 & 1 & No  & 3 & 3 & 2\\\\\n",
       "\t  1.44438746 & Female & 2 & Health Care and Social Assistance & One parent family with dependent children & Regional & 1 &  0.79409634 & -0.2026512 & -1.9948822 & ⋯ & 1 & 1 & 1 & 3 & 3 & 3 & Yes & 2 & 2 & 3\\\\\n",
       "\t -0.50978381 & Male   & 2 & Manufacturing                     & Couple with dependent children            & Metro    & 2 &  0.08722406 & -0.2026512 &  1.5534631 & ⋯ & 2 & 2 & 2 & 2 & 2 & 2 & No  & 2 & 2 & 2\\\\\n",
       "\t  0.50978381 & Male   & 3 & Public Administration and Safety  & Couple with dependent children            & Metro    & 1 &  0.08722406 & -0.2026512 & -0.2207096 & ⋯ & 3 & 2 & 2 & 3 & 3 & 3 & Yes & 3 & 2 & 2\\\\\n",
       "\\end{tabular}\n"
      ],
      "text/markdown": [
       "\n",
       "A tibble: 6 × 25\n",
       "\n",
       "| Age &lt;dbl[,1]&gt; | Gender &lt;fct&gt; | Experience &lt;fct&gt; | Industry &lt;fct&gt; | FamilyStatus &lt;fct&gt; | Location &lt;fct&gt; | InterpersonalRelationships &lt;fct&gt; | Commuting &lt;dbl[,1]&gt; | WorkEfficiency &lt;dbl[,1]&gt; | Housework &lt;dbl[,1]&gt; | ⋯ ⋯ | Motivation &lt;fct&gt; | PhysicalEnvironment &lt;fct&gt; | Wellbeing &lt;fct&gt; | MentalHealth &lt;fct&gt; | PhysicalHealth &lt;fct&gt; | Sociability &lt;fct&gt; | ManagingRole &lt;fct&gt; | RemoteWorkExtent &lt;fct&gt; | RemoteWorkSupport &lt;fct&gt; | Productivity &lt;fct&gt; |\n",
       "|---|---|---|---|---|---|---|---|---|---|---|---|---|---|---|---|---|---|---|---|---|\n",
       "|  0.25489190 | Male   | 3 | Other Services                    | Couple with dependent children            | Metro    | 1 | -0.61964823 |  1.3719844 | -0.2207096 | ⋯ | 2 | 2 | 3 | 3 | 3 | 2 | No  | 2 | 3 | 3 |\n",
       "|  0.67971175 | Male   | 3 | Construction                      | Couple with no dependent children         | Metro    | 2 | -0.26621209 |  1.3719844 |  1.5534631 | ⋯ | 2 | 2 | 2 | 2 | 2 | 2 | No  | 1 | 2 | 3 |\n",
       "|  0.08496397 | Female | 1 | Financial and Insurance           | Single person                             | Metro    | 1 | -0.61964823 | -0.2026512 |  0.6663767 | ⋯ | 3 | 3 | 2 | 3 | 2 | 1 | No  | 3 | 3 | 2 |\n",
       "|  1.44438746 | Female | 2 | Health Care and Social Assistance | One parent family with dependent children | Regional | 1 |  0.79409634 | -0.2026512 | -1.9948822 | ⋯ | 1 | 1 | 1 | 3 | 3 | 3 | Yes | 2 | 2 | 3 |\n",
       "| -0.50978381 | Male   | 2 | Manufacturing                     | Couple with dependent children            | Metro    | 2 |  0.08722406 | -0.2026512 |  1.5534631 | ⋯ | 2 | 2 | 2 | 2 | 2 | 2 | No  | 2 | 2 | 2 |\n",
       "|  0.50978381 | Male   | 3 | Public Administration and Safety  | Couple with dependent children            | Metro    | 1 |  0.08722406 | -0.2026512 | -0.2207096 | ⋯ | 3 | 2 | 2 | 3 | 3 | 3 | Yes | 3 | 2 | 2 |\n",
       "\n"
      ],
      "text/plain": [
       "  Age         Gender Experience Industry                         \n",
       "1  0.25489190 Male   3          Other Services                   \n",
       "2  0.67971175 Male   3          Construction                     \n",
       "3  0.08496397 Female 1          Financial and Insurance          \n",
       "4  1.44438746 Female 2          Health Care and Social Assistance\n",
       "5 -0.50978381 Male   2          Manufacturing                    \n",
       "6  0.50978381 Male   3          Public Administration and Safety \n",
       "  FamilyStatus                              Location InterpersonalRelationships\n",
       "1 Couple with dependent children            Metro    1                         \n",
       "2 Couple with no dependent children         Metro    2                         \n",
       "3 Single person                             Metro    1                         \n",
       "4 One parent family with dependent children Regional 1                         \n",
       "5 Couple with dependent children            Metro    2                         \n",
       "6 Couple with dependent children            Metro    1                         \n",
       "  Commuting   WorkEfficiency Housework  ⋯ Motivation PhysicalEnvironment\n",
       "1 -0.61964823  1.3719844     -0.2207096 ⋯ 2          2                  \n",
       "2 -0.26621209  1.3719844      1.5534631 ⋯ 2          2                  \n",
       "3 -0.61964823 -0.2026512      0.6663767 ⋯ 3          3                  \n",
       "4  0.79409634 -0.2026512     -1.9948822 ⋯ 1          1                  \n",
       "5  0.08722406 -0.2026512      1.5534631 ⋯ 2          2                  \n",
       "6  0.08722406 -0.2026512     -0.2207096 ⋯ 3          2                  \n",
       "  Wellbeing MentalHealth PhysicalHealth Sociability ManagingRole\n",
       "1 3         3            3              2           No          \n",
       "2 2         2            2              2           No          \n",
       "3 2         3            2              1           No          \n",
       "4 1         3            3              3           Yes         \n",
       "5 2         2            2              2           No          \n",
       "6 2         3            3              3           Yes         \n",
       "  RemoteWorkExtent RemoteWorkSupport Productivity\n",
       "1 2                3                 3           \n",
       "2 1                2                 3           \n",
       "3 3                3                 2           \n",
       "4 2                2                 3           \n",
       "5 2                2                 2           \n",
       "6 3                2                 2           "
      ]
     },
     "metadata": {},
     "output_type": "display_data"
    },
    {
     "data": {
      "text/html": [
       "<style>\n",
       ".list-inline {list-style: none; margin:0; padding: 0}\n",
       ".list-inline>li {display: inline-block}\n",
       ".list-inline>li:not(:last-child)::after {content: \"\\00b7\"; padding: 0 .5ex}\n",
       "</style>\n",
       "<ol class=list-inline><li>1420</li><li>25</li></ol>\n"
      ],
      "text/latex": [
       "\\begin{enumerate*}\n",
       "\\item 1420\n",
       "\\item 25\n",
       "\\end{enumerate*}\n"
      ],
      "text/markdown": [
       "1. 1420\n",
       "2. 25\n",
       "\n",
       "\n"
      ],
      "text/plain": [
       "[1] 1420   25"
      ]
     },
     "metadata": {},
     "output_type": "display_data"
    }
   ],
   "source": [
    "library(randomForest)\n",
    "library(readr)\n",
    "library(dplyr)\n",
    "library(rpart)\n",
    "library(caret)\n",
    "library(nnet)\n",
    "library(vip)\n",
    "\n",
    "data <- read_csv(\"nsw.csv\", show_col_types = FALSE)\n",
    "categorical_columns <- c(\n",
    "  \"Gender\", \"Experience\", \"Industry\", \"FamilyStatus\",\n",
    "  \"Location\", \"InterpersonalRelationships\", \"SocialIsolation\",\n",
    "  \"EconomicResources\", \"RemoteWorkCompatability\", \"Motivation\",\n",
    "  \"PhysicalEnvironment\", \"Wellbeing\", \"MentalHealth\", \"PhysicalHealth\",\n",
    "  \"Sociability\", \"ManagingRole\", \"RemoteWorkExtent\",\n",
    "  \"RemoteWorkSupport\", \"Productivity\"\n",
    ")\n",
    "numeric_columns <- c(\n",
    "  \"Age\", \"Commuting\", \"WorkEfficiency\", \"Housework\", \"FamilyTime\", \"Sleep\"\n",
    ")\n",
    "\n",
    "data[categorical_columns] <- lapply(data[categorical_columns], as.factor)\n",
    "data[numeric_columns] <- lapply(data[numeric_columns], as.numeric)\n",
    "data[numeric_columns] <- lapply(data[numeric_columns], scale)\n",
    "\n",
    "head(data)\n",
    "dim(data)"
   ]
  },
  {
   "cell_type": "code",
   "execution_count": 79,
   "metadata": {
    "vscode": {
     "languageId": "r"
    }
   },
   "outputs": [
    {
     "data": {
      "text/plain": [
       "\n",
       "  1   2   3 \n",
       "155 155 155 "
      ]
     },
     "metadata": {},
     "output_type": "display_data"
    }
   ],
   "source": [
    "min_class_size <- data %>%\n",
    "  count(MentalHealth) %>%\n",
    "  summarise(min_size = min(n)) %>%\n",
    "  pull(min_size)\n",
    "\n",
    "# Undersample all classes to the smallest class size\n",
    "data <- data %>%\n",
    "  group_by(MentalHealth) %>%\n",
    "  slice_sample(n = min_class_size) %>%\n",
    "  ungroup()\n",
    "\n",
    "table(balanced_data$MentalHealth)"
   ]
  },
  {
   "cell_type": "code",
   "execution_count": 80,
   "metadata": {
    "vscode": {
     "languageId": "r"
    }
   },
   "outputs": [
    {
     "data": {
      "text/plain": [
       "\n",
       "  1   2   3 \n",
       "124 124 124 "
      ]
     },
     "metadata": {},
     "output_type": "display_data"
    },
    {
     "data": {
      "text/plain": [
       "\n",
       " 1  2  3 \n",
       "31 31 31 "
      ]
     },
     "metadata": {},
     "output_type": "display_data"
    }
   ],
   "source": [
    "set.seed(123)\n",
    "train_index <- createDataPartition(data$MentalHealth, p = 0.8, list = FALSE)\n",
    "train_data <- data[train_index, ]\n",
    "test_data <- data[-train_index, ]\n",
    "\n",
    "table(train_data$MentalHealth)\n",
    "table(test_data$MentalHealth)"
   ]
  },
  {
   "cell_type": "code",
   "execution_count": 81,
   "metadata": {
    "vscode": {
     "languageId": "r"
    }
   },
   "outputs": [
    {
     "name": "stdout",
     "output_type": "stream",
     "text": [
      "# weights:  183 (120 variable)\n"
     ]
    },
    {
     "name": "stdout",
     "output_type": "stream",
     "text": [
      "initial  value 408.683771 \n",
      "iter  10 value 276.044207\n",
      "iter  20 value 246.991163\n",
      "iter  30 value 243.728033\n",
      "iter  40 value 242.846299\n",
      "iter  50 value 240.992321\n",
      "iter  60 value 240.442519\n",
      "iter  70 value 240.413837\n",
      "iter  80 value 240.349858\n",
      "iter  90 value 240.265493\n",
      "iter 100 value 240.008570\n",
      "final  value 240.008570 \n",
      "stopped after 100 iterations\n"
     ]
    },
    {
     "data": {
      "text/plain": [
       "Confusion Matrix and Statistics\n",
       "\n",
       "          Reference\n",
       "Prediction  1  2  3\n",
       "         1 19  7  3\n",
       "         2  6 16  9\n",
       "         3  6  8 19\n",
       "\n",
       "Overall Statistics\n",
       "                                          \n",
       "               Accuracy : 0.5806          \n",
       "                 95% CI : (0.4738, 0.6822)\n",
       "    No Information Rate : 0.3333          \n",
       "    P-Value [Acc > NIR] : 8.774e-07       \n",
       "                                          \n",
       "                  Kappa : 0.371           \n",
       "                                          \n",
       " Mcnemar's Test P-Value : 0.7685          \n",
       "\n",
       "Statistics by Class:\n",
       "\n",
       "                     Class: 1 Class: 2 Class: 3\n",
       "Sensitivity            0.6129   0.5161   0.6129\n",
       "Specificity            0.8387   0.7581   0.7742\n",
       "Pos Pred Value         0.6552   0.5161   0.5758\n",
       "Neg Pred Value         0.8125   0.7581   0.8000\n",
       "Prevalence             0.3333   0.3333   0.3333\n",
       "Detection Rate         0.2043   0.1720   0.2043\n",
       "Detection Prevalence   0.3118   0.3333   0.3548\n",
       "Balanced Accuracy      0.7258   0.6371   0.6935"
      ]
     },
     "metadata": {},
     "output_type": "display_data"
    }
   ],
   "source": [
    "model <- multinom(MentalHealth ~ ., data = train_data)\n",
    "predicted_classes <- predict(model, test_data, type = \"class\")\n",
    "\n",
    "conf_matrix <- confusionMatrix(\n",
    "  factor(predicted_classes, levels = levels(test_data$MentalHealth)),\n",
    "  test_data$MentalHealth\n",
    ")\n",
    "conf_matrix"
   ]
  },
  {
   "cell_type": "code",
   "execution_count": 82,
   "metadata": {
    "vscode": {
     "languageId": "r"
    }
   },
   "outputs": [
    {
     "data": {
      "text/html": [
       "<table class=\"dataframe\">\n",
       "<caption>A data.frame: 60 × 2</caption>\n",
       "<thead>\n",
       "\t<tr><th></th><th scope=col>Feature</th><th scope=col>Importance</th></tr>\n",
       "\t<tr><th></th><th scope=col>&lt;chr&gt;</th><th scope=col>&lt;dbl&gt;</th></tr>\n",
       "</thead>\n",
       "<tbody>\n",
       "\t<tr><th scope=row>IndustryMining</th><td>IndustryMining                                       </td><td>273.92398744</td></tr>\n",
       "\t<tr><th scope=row>(Intercept)</th><td>(Intercept)                                          </td><td> 89.39529142</td></tr>\n",
       "\t<tr><th scope=row>IndustryConstruction</th><td>IndustryConstruction                                 </td><td> 86.22632672</td></tr>\n",
       "\t<tr><th scope=row>IndustryManufacturing</th><td>IndustryManufacturing                                </td><td> 85.49149032</td></tr>\n",
       "\t<tr><th scope=row>IndustryArts and Recreation</th><td>IndustryArts and Recreation                          </td><td> 85.36557713</td></tr>\n",
       "\t<tr><th scope=row>IndustryElectricity, Gas, Water and Waste</th><td>IndustryElectricity, Gas, Water and Waste            </td><td> 85.32705679</td></tr>\n",
       "\t<tr><th scope=row>IndustryWholesale Trade</th><td>IndustryWholesale Trade                              </td><td> 85.27502401</td></tr>\n",
       "\t<tr><th scope=row>IndustryEducation and Training</th><td>IndustryEducation and Training                       </td><td> 85.21441417</td></tr>\n",
       "\t<tr><th scope=row>IndustryAgriculture, Forestry and Fishing</th><td>IndustryAgriculture, Forestry and Fishing            </td><td> 85.15438230</td></tr>\n",
       "\t<tr><th scope=row>IndustryInformation Media and Telecommunications</th><td>IndustryInformation Media and Telecommunications     </td><td> 85.08639920</td></tr>\n",
       "\t<tr><th scope=row>IndustryTransport, Postal and Warehousing</th><td>IndustryTransport, Postal and Warehousing            </td><td> 85.08602640</td></tr>\n",
       "\t<tr><th scope=row>IndustryRetail Trade</th><td>IndustryRetail Trade                                 </td><td> 85.07717072</td></tr>\n",
       "\t<tr><th scope=row>IndustryOther Services</th><td>IndustryOther Services                               </td><td> 85.06304922</td></tr>\n",
       "\t<tr><th scope=row>IndustryHealth Care and Social Assistance</th><td>IndustryHealth Care and Social Assistance            </td><td> 85.05171907</td></tr>\n",
       "\t<tr><th scope=row>IndustryFinancial and Insurance</th><td>IndustryFinancial and Insurance                      </td><td> 85.03704263</td></tr>\n",
       "\t<tr><th scope=row>IndustryProfessional, Scientific and Technical</th><td>IndustryProfessional, Scientific and Technical       </td><td> 84.97120983</td></tr>\n",
       "\t<tr><th scope=row>IndustryRental, Hiring and Real Estate</th><td>IndustryRental, Hiring and Real Estate               </td><td> 84.97015508</td></tr>\n",
       "\t<tr><th scope=row>IndustryAdministrative and Support</th><td>IndustryAdministrative and Support                   </td><td> 84.75122753</td></tr>\n",
       "\t<tr><th scope=row>IndustryPublic Administration and Safety</th><td>IndustryPublic Administration and Safety             </td><td> 84.67280629</td></tr>\n",
       "\t<tr><th scope=row>Commuting</th><td>Commuting                                            </td><td> 32.22139914</td></tr>\n",
       "\t<tr><th scope=row>FamilyTime</th><td>FamilyTime                                           </td><td> 32.10995522</td></tr>\n",
       "\t<tr><th scope=row>WorkEfficiency</th><td>WorkEfficiency                                       </td><td> 28.90644745</td></tr>\n",
       "\t<tr><th scope=row>Housework</th><td>Housework                                            </td><td> 25.67113232</td></tr>\n",
       "\t<tr><th scope=row>Sleep</th><td>Sleep                                                </td><td> 24.03376228</td></tr>\n",
       "\t<tr><th scope=row>FamilyStatusGroup household</th><td>FamilyStatusGroup household                          </td><td>  2.44874313</td></tr>\n",
       "\t<tr><th scope=row>Productivity3</th><td>Productivity3                                        </td><td>  2.36797164</td></tr>\n",
       "\t<tr><th scope=row>PhysicalHealth3</th><td>PhysicalHealth3                                      </td><td>  2.11601057</td></tr>\n",
       "\t<tr><th scope=row>RemoteWorkSupport3</th><td>RemoteWorkSupport3                                   </td><td>  1.66665424</td></tr>\n",
       "\t<tr><th scope=row>Sociability2</th><td>Sociability2                                         </td><td>  1.53006580</td></tr>\n",
       "\t<tr><th scope=row>Productivity2</th><td>Productivity2                                        </td><td>  1.46568538</td></tr>\n",
       "\t<tr><th scope=row>Experience2</th><td>Experience2                                          </td><td>  1.05380585</td></tr>\n",
       "\t<tr><th scope=row>Experience3</th><td>Experience3                                          </td><td>  1.03427121</td></tr>\n",
       "\t<tr><th scope=row>PhysicalHealth2</th><td>PhysicalHealth2                                      </td><td>  1.00688315</td></tr>\n",
       "\t<tr><th scope=row>RemoteWorkSupport2</th><td>RemoteWorkSupport2                                   </td><td>  0.85778150</td></tr>\n",
       "\t<tr><th scope=row>Wellbeing3</th><td>Wellbeing3                                           </td><td>  0.83770949</td></tr>\n",
       "\t<tr><th scope=row>FamilyStatusMultiple family household</th><td>FamilyStatusMultiple family household                </td><td>  0.83309379</td></tr>\n",
       "\t<tr><th scope=row>EconomicResources3</th><td>EconomicResources3                                   </td><td>  0.80992855</td></tr>\n",
       "\t<tr><th scope=row>RemoteWorkExtent2</th><td>RemoteWorkExtent2                                    </td><td>  0.74232561</td></tr>\n",
       "\t<tr><th scope=row>FamilyStatusCouple with no dependent children</th><td>FamilyStatusCouple with no dependent children        </td><td>  0.68062126</td></tr>\n",
       "\t<tr><th scope=row>FamilyStatusSingle person</th><td>FamilyStatusSingle person                            </td><td>  0.63440802</td></tr>\n",
       "\t<tr><th scope=row>SocialIsolation2</th><td>SocialIsolation2                                     </td><td>  0.55375254</td></tr>\n",
       "\t<tr><th scope=row>Wellbeing2</th><td>Wellbeing2                                           </td><td>  0.55244560</td></tr>\n",
       "\t<tr><th scope=row>RemoteWorkCompatability3</th><td>RemoteWorkCompatability3                             </td><td>  0.50998346</td></tr>\n",
       "\t<tr><th scope=row>LocationRegional</th><td>LocationRegional                                     </td><td>  0.50405646</td></tr>\n",
       "\t<tr><th scope=row>Sociability3</th><td>Sociability3                                         </td><td>  0.49536944</td></tr>\n",
       "\t<tr><th scope=row>FamilyStatusOther one family household</th><td>FamilyStatusOther one family household               </td><td>  0.46073186</td></tr>\n",
       "\t<tr><th scope=row>PhysicalEnvironment2</th><td>PhysicalEnvironment2                                 </td><td>  0.45522717</td></tr>\n",
       "\t<tr><th scope=row>EconomicResources2</th><td>EconomicResources2                                   </td><td>  0.42736872</td></tr>\n",
       "\t<tr><th scope=row>InterpersonalRelationships2</th><td>InterpersonalRelationships2                          </td><td>  0.41435475</td></tr>\n",
       "\t<tr><th scope=row>PhysicalEnvironment3</th><td>PhysicalEnvironment3                                 </td><td>  0.40761403</td></tr>\n",
       "\t<tr><th scope=row>Motivation3</th><td>Motivation3                                          </td><td>  0.35536737</td></tr>\n",
       "\t<tr><th scope=row>SocialIsolation3</th><td>SocialIsolation3                                     </td><td>  0.32575489</td></tr>\n",
       "\t<tr><th scope=row>FamilyStatusOne parent family with dependent children</th><td>FamilyStatusOne parent family with dependent children</td><td>  0.28886852</td></tr>\n",
       "\t<tr><th scope=row>RemoteWorkExtent3</th><td>RemoteWorkExtent3                                    </td><td>  0.27635686</td></tr>\n",
       "\t<tr><th scope=row>GenderMale</th><td>GenderMale                                           </td><td>  0.27344792</td></tr>\n",
       "\t<tr><th scope=row>InterpersonalRelationships3</th><td>InterpersonalRelationships3                          </td><td>  0.22955789</td></tr>\n",
       "\t<tr><th scope=row>Age</th><td>Age                                                  </td><td>  0.17268821</td></tr>\n",
       "\t<tr><th scope=row>Motivation2</th><td>Motivation2                                          </td><td>  0.16724952</td></tr>\n",
       "\t<tr><th scope=row>ManagingRoleYes</th><td>ManagingRoleYes                                      </td><td>  0.14703625</td></tr>\n",
       "\t<tr><th scope=row>RemoteWorkCompatability2</th><td>RemoteWorkCompatability2                             </td><td>  0.06007143</td></tr>\n",
       "</tbody>\n",
       "</table>\n"
      ],
      "text/latex": [
       "A data.frame: 60 × 2\n",
       "\\begin{tabular}{r|ll}\n",
       "  & Feature & Importance\\\\\n",
       "  & <chr> & <dbl>\\\\\n",
       "\\hline\n",
       "\tIndustryMining & IndustryMining                                        & 273.92398744\\\\\n",
       "\t(Intercept) & (Intercept)                                           &  89.39529142\\\\\n",
       "\tIndustryConstruction & IndustryConstruction                                  &  86.22632672\\\\\n",
       "\tIndustryManufacturing & IndustryManufacturing                                 &  85.49149032\\\\\n",
       "\tIndustryArts and Recreation & IndustryArts and Recreation                           &  85.36557713\\\\\n",
       "\tIndustryElectricity, Gas, Water and Waste & IndustryElectricity, Gas, Water and Waste             &  85.32705679\\\\\n",
       "\tIndustryWholesale Trade & IndustryWholesale Trade                               &  85.27502401\\\\\n",
       "\tIndustryEducation and Training & IndustryEducation and Training                        &  85.21441417\\\\\n",
       "\tIndustryAgriculture, Forestry and Fishing & IndustryAgriculture, Forestry and Fishing             &  85.15438230\\\\\n",
       "\tIndustryInformation Media and Telecommunications & IndustryInformation Media and Telecommunications      &  85.08639920\\\\\n",
       "\tIndustryTransport, Postal and Warehousing & IndustryTransport, Postal and Warehousing             &  85.08602640\\\\\n",
       "\tIndustryRetail Trade & IndustryRetail Trade                                  &  85.07717072\\\\\n",
       "\tIndustryOther Services & IndustryOther Services                                &  85.06304922\\\\\n",
       "\tIndustryHealth Care and Social Assistance & IndustryHealth Care and Social Assistance             &  85.05171907\\\\\n",
       "\tIndustryFinancial and Insurance & IndustryFinancial and Insurance                       &  85.03704263\\\\\n",
       "\tIndustryProfessional, Scientific and Technical & IndustryProfessional, Scientific and Technical        &  84.97120983\\\\\n",
       "\tIndustryRental, Hiring and Real Estate & IndustryRental, Hiring and Real Estate                &  84.97015508\\\\\n",
       "\tIndustryAdministrative and Support & IndustryAdministrative and Support                    &  84.75122753\\\\\n",
       "\tIndustryPublic Administration and Safety & IndustryPublic Administration and Safety              &  84.67280629\\\\\n",
       "\tCommuting & Commuting                                             &  32.22139914\\\\\n",
       "\tFamilyTime & FamilyTime                                            &  32.10995522\\\\\n",
       "\tWorkEfficiency & WorkEfficiency                                        &  28.90644745\\\\\n",
       "\tHousework & Housework                                             &  25.67113232\\\\\n",
       "\tSleep & Sleep                                                 &  24.03376228\\\\\n",
       "\tFamilyStatusGroup household & FamilyStatusGroup household                           &   2.44874313\\\\\n",
       "\tProductivity3 & Productivity3                                         &   2.36797164\\\\\n",
       "\tPhysicalHealth3 & PhysicalHealth3                                       &   2.11601057\\\\\n",
       "\tRemoteWorkSupport3 & RemoteWorkSupport3                                    &   1.66665424\\\\\n",
       "\tSociability2 & Sociability2                                          &   1.53006580\\\\\n",
       "\tProductivity2 & Productivity2                                         &   1.46568538\\\\\n",
       "\tExperience2 & Experience2                                           &   1.05380585\\\\\n",
       "\tExperience3 & Experience3                                           &   1.03427121\\\\\n",
       "\tPhysicalHealth2 & PhysicalHealth2                                       &   1.00688315\\\\\n",
       "\tRemoteWorkSupport2 & RemoteWorkSupport2                                    &   0.85778150\\\\\n",
       "\tWellbeing3 & Wellbeing3                                            &   0.83770949\\\\\n",
       "\tFamilyStatusMultiple family household & FamilyStatusMultiple family household                 &   0.83309379\\\\\n",
       "\tEconomicResources3 & EconomicResources3                                    &   0.80992855\\\\\n",
       "\tRemoteWorkExtent2 & RemoteWorkExtent2                                     &   0.74232561\\\\\n",
       "\tFamilyStatusCouple with no dependent children & FamilyStatusCouple with no dependent children         &   0.68062126\\\\\n",
       "\tFamilyStatusSingle person & FamilyStatusSingle person                             &   0.63440802\\\\\n",
       "\tSocialIsolation2 & SocialIsolation2                                      &   0.55375254\\\\\n",
       "\tWellbeing2 & Wellbeing2                                            &   0.55244560\\\\\n",
       "\tRemoteWorkCompatability3 & RemoteWorkCompatability3                              &   0.50998346\\\\\n",
       "\tLocationRegional & LocationRegional                                      &   0.50405646\\\\\n",
       "\tSociability3 & Sociability3                                          &   0.49536944\\\\\n",
       "\tFamilyStatusOther one family household & FamilyStatusOther one family household                &   0.46073186\\\\\n",
       "\tPhysicalEnvironment2 & PhysicalEnvironment2                                  &   0.45522717\\\\\n",
       "\tEconomicResources2 & EconomicResources2                                    &   0.42736872\\\\\n",
       "\tInterpersonalRelationships2 & InterpersonalRelationships2                           &   0.41435475\\\\\n",
       "\tPhysicalEnvironment3 & PhysicalEnvironment3                                  &   0.40761403\\\\\n",
       "\tMotivation3 & Motivation3                                           &   0.35536737\\\\\n",
       "\tSocialIsolation3 & SocialIsolation3                                      &   0.32575489\\\\\n",
       "\tFamilyStatusOne parent family with dependent children & FamilyStatusOne parent family with dependent children &   0.28886852\\\\\n",
       "\tRemoteWorkExtent3 & RemoteWorkExtent3                                     &   0.27635686\\\\\n",
       "\tGenderMale & GenderMale                                            &   0.27344792\\\\\n",
       "\tInterpersonalRelationships3 & InterpersonalRelationships3                           &   0.22955789\\\\\n",
       "\tAge & Age                                                   &   0.17268821\\\\\n",
       "\tMotivation2 & Motivation2                                           &   0.16724952\\\\\n",
       "\tManagingRoleYes & ManagingRoleYes                                       &   0.14703625\\\\\n",
       "\tRemoteWorkCompatability2 & RemoteWorkCompatability2                              &   0.06007143\\\\\n",
       "\\end{tabular}\n"
      ],
      "text/markdown": [
       "\n",
       "A data.frame: 60 × 2\n",
       "\n",
       "| <!--/--> | Feature &lt;chr&gt; | Importance &lt;dbl&gt; |\n",
       "|---|---|---|\n",
       "| IndustryMining | IndustryMining                                        | 273.92398744 |\n",
       "| (Intercept) | (Intercept)                                           |  89.39529142 |\n",
       "| IndustryConstruction | IndustryConstruction                                  |  86.22632672 |\n",
       "| IndustryManufacturing | IndustryManufacturing                                 |  85.49149032 |\n",
       "| IndustryArts and Recreation | IndustryArts and Recreation                           |  85.36557713 |\n",
       "| IndustryElectricity, Gas, Water and Waste | IndustryElectricity, Gas, Water and Waste             |  85.32705679 |\n",
       "| IndustryWholesale Trade | IndustryWholesale Trade                               |  85.27502401 |\n",
       "| IndustryEducation and Training | IndustryEducation and Training                        |  85.21441417 |\n",
       "| IndustryAgriculture, Forestry and Fishing | IndustryAgriculture, Forestry and Fishing             |  85.15438230 |\n",
       "| IndustryInformation Media and Telecommunications | IndustryInformation Media and Telecommunications      |  85.08639920 |\n",
       "| IndustryTransport, Postal and Warehousing | IndustryTransport, Postal and Warehousing             |  85.08602640 |\n",
       "| IndustryRetail Trade | IndustryRetail Trade                                  |  85.07717072 |\n",
       "| IndustryOther Services | IndustryOther Services                                |  85.06304922 |\n",
       "| IndustryHealth Care and Social Assistance | IndustryHealth Care and Social Assistance             |  85.05171907 |\n",
       "| IndustryFinancial and Insurance | IndustryFinancial and Insurance                       |  85.03704263 |\n",
       "| IndustryProfessional, Scientific and Technical | IndustryProfessional, Scientific and Technical        |  84.97120983 |\n",
       "| IndustryRental, Hiring and Real Estate | IndustryRental, Hiring and Real Estate                |  84.97015508 |\n",
       "| IndustryAdministrative and Support | IndustryAdministrative and Support                    |  84.75122753 |\n",
       "| IndustryPublic Administration and Safety | IndustryPublic Administration and Safety              |  84.67280629 |\n",
       "| Commuting | Commuting                                             |  32.22139914 |\n",
       "| FamilyTime | FamilyTime                                            |  32.10995522 |\n",
       "| WorkEfficiency | WorkEfficiency                                        |  28.90644745 |\n",
       "| Housework | Housework                                             |  25.67113232 |\n",
       "| Sleep | Sleep                                                 |  24.03376228 |\n",
       "| FamilyStatusGroup household | FamilyStatusGroup household                           |   2.44874313 |\n",
       "| Productivity3 | Productivity3                                         |   2.36797164 |\n",
       "| PhysicalHealth3 | PhysicalHealth3                                       |   2.11601057 |\n",
       "| RemoteWorkSupport3 | RemoteWorkSupport3                                    |   1.66665424 |\n",
       "| Sociability2 | Sociability2                                          |   1.53006580 |\n",
       "| Productivity2 | Productivity2                                         |   1.46568538 |\n",
       "| Experience2 | Experience2                                           |   1.05380585 |\n",
       "| Experience3 | Experience3                                           |   1.03427121 |\n",
       "| PhysicalHealth2 | PhysicalHealth2                                       |   1.00688315 |\n",
       "| RemoteWorkSupport2 | RemoteWorkSupport2                                    |   0.85778150 |\n",
       "| Wellbeing3 | Wellbeing3                                            |   0.83770949 |\n",
       "| FamilyStatusMultiple family household | FamilyStatusMultiple family household                 |   0.83309379 |\n",
       "| EconomicResources3 | EconomicResources3                                    |   0.80992855 |\n",
       "| RemoteWorkExtent2 | RemoteWorkExtent2                                     |   0.74232561 |\n",
       "| FamilyStatusCouple with no dependent children | FamilyStatusCouple with no dependent children         |   0.68062126 |\n",
       "| FamilyStatusSingle person | FamilyStatusSingle person                             |   0.63440802 |\n",
       "| SocialIsolation2 | SocialIsolation2                                      |   0.55375254 |\n",
       "| Wellbeing2 | Wellbeing2                                            |   0.55244560 |\n",
       "| RemoteWorkCompatability3 | RemoteWorkCompatability3                              |   0.50998346 |\n",
       "| LocationRegional | LocationRegional                                      |   0.50405646 |\n",
       "| Sociability3 | Sociability3                                          |   0.49536944 |\n",
       "| FamilyStatusOther one family household | FamilyStatusOther one family household                |   0.46073186 |\n",
       "| PhysicalEnvironment2 | PhysicalEnvironment2                                  |   0.45522717 |\n",
       "| EconomicResources2 | EconomicResources2                                    |   0.42736872 |\n",
       "| InterpersonalRelationships2 | InterpersonalRelationships2                           |   0.41435475 |\n",
       "| PhysicalEnvironment3 | PhysicalEnvironment3                                  |   0.40761403 |\n",
       "| Motivation3 | Motivation3                                           |   0.35536737 |\n",
       "| SocialIsolation3 | SocialIsolation3                                      |   0.32575489 |\n",
       "| FamilyStatusOne parent family with dependent children | FamilyStatusOne parent family with dependent children |   0.28886852 |\n",
       "| RemoteWorkExtent3 | RemoteWorkExtent3                                     |   0.27635686 |\n",
       "| GenderMale | GenderMale                                            |   0.27344792 |\n",
       "| InterpersonalRelationships3 | InterpersonalRelationships3                           |   0.22955789 |\n",
       "| Age | Age                                                   |   0.17268821 |\n",
       "| Motivation2 | Motivation2                                           |   0.16724952 |\n",
       "| ManagingRoleYes | ManagingRoleYes                                       |   0.14703625 |\n",
       "| RemoteWorkCompatability2 | RemoteWorkCompatability2                              |   0.06007143 |\n",
       "\n"
      ],
      "text/plain": [
       "                                                      Feature                                              \n",
       "IndustryMining                                        IndustryMining                                       \n",
       "(Intercept)                                           (Intercept)                                          \n",
       "IndustryConstruction                                  IndustryConstruction                                 \n",
       "IndustryManufacturing                                 IndustryManufacturing                                \n",
       "IndustryArts and Recreation                           IndustryArts and Recreation                          \n",
       "IndustryElectricity, Gas, Water and Waste             IndustryElectricity, Gas, Water and Waste            \n",
       "IndustryWholesale Trade                               IndustryWholesale Trade                              \n",
       "IndustryEducation and Training                        IndustryEducation and Training                       \n",
       "IndustryAgriculture, Forestry and Fishing             IndustryAgriculture, Forestry and Fishing            \n",
       "IndustryInformation Media and Telecommunications      IndustryInformation Media and Telecommunications     \n",
       "IndustryTransport, Postal and Warehousing             IndustryTransport, Postal and Warehousing            \n",
       "IndustryRetail Trade                                  IndustryRetail Trade                                 \n",
       "IndustryOther Services                                IndustryOther Services                               \n",
       "IndustryHealth Care and Social Assistance             IndustryHealth Care and Social Assistance            \n",
       "IndustryFinancial and Insurance                       IndustryFinancial and Insurance                      \n",
       "IndustryProfessional, Scientific and Technical        IndustryProfessional, Scientific and Technical       \n",
       "IndustryRental, Hiring and Real Estate                IndustryRental, Hiring and Real Estate               \n",
       "IndustryAdministrative and Support                    IndustryAdministrative and Support                   \n",
       "IndustryPublic Administration and Safety              IndustryPublic Administration and Safety             \n",
       "Commuting                                             Commuting                                            \n",
       "FamilyTime                                            FamilyTime                                           \n",
       "WorkEfficiency                                        WorkEfficiency                                       \n",
       "Housework                                             Housework                                            \n",
       "Sleep                                                 Sleep                                                \n",
       "FamilyStatusGroup household                           FamilyStatusGroup household                          \n",
       "Productivity3                                         Productivity3                                        \n",
       "PhysicalHealth3                                       PhysicalHealth3                                      \n",
       "RemoteWorkSupport3                                    RemoteWorkSupport3                                   \n",
       "Sociability2                                          Sociability2                                         \n",
       "Productivity2                                         Productivity2                                        \n",
       "Experience2                                           Experience2                                          \n",
       "Experience3                                           Experience3                                          \n",
       "PhysicalHealth2                                       PhysicalHealth2                                      \n",
       "RemoteWorkSupport2                                    RemoteWorkSupport2                                   \n",
       "Wellbeing3                                            Wellbeing3                                           \n",
       "FamilyStatusMultiple family household                 FamilyStatusMultiple family household                \n",
       "EconomicResources3                                    EconomicResources3                                   \n",
       "RemoteWorkExtent2                                     RemoteWorkExtent2                                    \n",
       "FamilyStatusCouple with no dependent children         FamilyStatusCouple with no dependent children        \n",
       "FamilyStatusSingle person                             FamilyStatusSingle person                            \n",
       "SocialIsolation2                                      SocialIsolation2                                     \n",
       "Wellbeing2                                            Wellbeing2                                           \n",
       "RemoteWorkCompatability3                              RemoteWorkCompatability3                             \n",
       "LocationRegional                                      LocationRegional                                     \n",
       "Sociability3                                          Sociability3                                         \n",
       "FamilyStatusOther one family household                FamilyStatusOther one family household               \n",
       "PhysicalEnvironment2                                  PhysicalEnvironment2                                 \n",
       "EconomicResources2                                    EconomicResources2                                   \n",
       "InterpersonalRelationships2                           InterpersonalRelationships2                          \n",
       "PhysicalEnvironment3                                  PhysicalEnvironment3                                 \n",
       "Motivation3                                           Motivation3                                          \n",
       "SocialIsolation3                                      SocialIsolation3                                     \n",
       "FamilyStatusOne parent family with dependent children FamilyStatusOne parent family with dependent children\n",
       "RemoteWorkExtent3                                     RemoteWorkExtent3                                    \n",
       "GenderMale                                            GenderMale                                           \n",
       "InterpersonalRelationships3                           InterpersonalRelationships3                          \n",
       "Age                                                   Age                                                  \n",
       "Motivation2                                           Motivation2                                          \n",
       "ManagingRoleYes                                       ManagingRoleYes                                      \n",
       "RemoteWorkCompatability2                              RemoteWorkCompatability2                             \n",
       "                                                      Importance  \n",
       "IndustryMining                                        273.92398744\n",
       "(Intercept)                                            89.39529142\n",
       "IndustryConstruction                                   86.22632672\n",
       "IndustryManufacturing                                  85.49149032\n",
       "IndustryArts and Recreation                            85.36557713\n",
       "IndustryElectricity, Gas, Water and Waste              85.32705679\n",
       "IndustryWholesale Trade                                85.27502401\n",
       "IndustryEducation and Training                         85.21441417\n",
       "IndustryAgriculture, Forestry and Fishing              85.15438230\n",
       "IndustryInformation Media and Telecommunications       85.08639920\n",
       "IndustryTransport, Postal and Warehousing              85.08602640\n",
       "IndustryRetail Trade                                   85.07717072\n",
       "IndustryOther Services                                 85.06304922\n",
       "IndustryHealth Care and Social Assistance              85.05171907\n",
       "IndustryFinancial and Insurance                        85.03704263\n",
       "IndustryProfessional, Scientific and Technical         84.97120983\n",
       "IndustryRental, Hiring and Real Estate                 84.97015508\n",
       "IndustryAdministrative and Support                     84.75122753\n",
       "IndustryPublic Administration and Safety               84.67280629\n",
       "Commuting                                              32.22139914\n",
       "FamilyTime                                             32.10995522\n",
       "WorkEfficiency                                         28.90644745\n",
       "Housework                                              25.67113232\n",
       "Sleep                                                  24.03376228\n",
       "FamilyStatusGroup household                             2.44874313\n",
       "Productivity3                                           2.36797164\n",
       "PhysicalHealth3                                         2.11601057\n",
       "RemoteWorkSupport3                                      1.66665424\n",
       "Sociability2                                            1.53006580\n",
       "Productivity2                                           1.46568538\n",
       "Experience2                                             1.05380585\n",
       "Experience3                                             1.03427121\n",
       "PhysicalHealth2                                         1.00688315\n",
       "RemoteWorkSupport2                                      0.85778150\n",
       "Wellbeing3                                              0.83770949\n",
       "FamilyStatusMultiple family household                   0.83309379\n",
       "EconomicResources3                                      0.80992855\n",
       "RemoteWorkExtent2                                       0.74232561\n",
       "FamilyStatusCouple with no dependent children           0.68062126\n",
       "FamilyStatusSingle person                               0.63440802\n",
       "SocialIsolation2                                        0.55375254\n",
       "Wellbeing2                                              0.55244560\n",
       "RemoteWorkCompatability3                                0.50998346\n",
       "LocationRegional                                        0.50405646\n",
       "Sociability3                                            0.49536944\n",
       "FamilyStatusOther one family household                  0.46073186\n",
       "PhysicalEnvironment2                                    0.45522717\n",
       "EconomicResources2                                      0.42736872\n",
       "InterpersonalRelationships2                             0.41435475\n",
       "PhysicalEnvironment3                                    0.40761403\n",
       "Motivation3                                             0.35536737\n",
       "SocialIsolation3                                        0.32575489\n",
       "FamilyStatusOne parent family with dependent children   0.28886852\n",
       "RemoteWorkExtent3                                       0.27635686\n",
       "GenderMale                                              0.27344792\n",
       "InterpersonalRelationships3                             0.22955789\n",
       "Age                                                     0.17268821\n",
       "Motivation2                                             0.16724952\n",
       "ManagingRoleYes                                         0.14703625\n",
       "RemoteWorkCompatability2                                0.06007143"
      ]
     },
     "metadata": {},
     "output_type": "display_data"
    }
   ],
   "source": [
    "coeffs <- summary(model)$coefficients\n",
    "\n",
    "# Average absolute value of coefficients for each feature across classes\n",
    "feature_influence <- apply(abs(coeffs), 2, mean)\n",
    "\n",
    "# Rank the features by their average magnitude to find the most influential ones\n",
    "feature_influence_df <- data.frame(\n",
    "  Feature = names(feature_influence),\n",
    "  Importance = feature_influence\n",
    ")\n",
    "\n",
    "# Sort features by their importance\n",
    "feature_influence_df <- feature_influence_df[\n",
    "  order(-feature_influence_df$Importance),\n",
    "]\n",
    "feature_influence_df"
   ]
  },
  {
   "cell_type": "code",
   "execution_count": 83,
   "metadata": {
    "vscode": {
     "languageId": "r"
    }
   },
   "outputs": [
    {
     "data": {
      "image/png": "[encoded data removed]",
      "text/plain": [
       "plot without title"
      ]
     },
     "metadata": {
      "image/png": {
       "height": 420,
       "width": 420
      }
     },
     "output_type": "display_data"
    }
   ],
   "source": [
    "ggplot(data = test_data, aes(x = predicted_classes, fill = MentalHealth)) +\n",
    "  geom_bar(position = \"dodge\") +\n",
    "  labs(title = \"Predicted vs Actual Mental Health Classes\")"
   ]
  },
  {
   "cell_type": "code",
   "execution_count": 84,
   "metadata": {
    "vscode": {
     "languageId": "r"
    }
   },
   "outputs": [
    {
     "data": {
      "text/plain": [
       "Confusion Matrix and Statistics\n",
       "\n",
       "          Reference\n",
       "Prediction  1  2  3\n",
       "         1 18  7  3\n",
       "         2 11 18  7\n",
       "         3  2  6 21\n",
       "\n",
       "Overall Statistics\n",
       "                                          \n",
       "               Accuracy : 0.6129          \n",
       "                 95% CI : (0.5062, 0.7122)\n",
       "    No Information Rate : 0.3333          \n",
       "    P-Value [Acc > NIR] : 3.217e-08       \n",
       "                                          \n",
       "                  Kappa : 0.4194          \n",
       "                                          \n",
       " Mcnemar's Test P-Value : 0.7612          \n",
       "\n",
       "Statistics by Class:\n",
       "\n",
       "                     Class: 1 Class: 2 Class: 3\n",
       "Sensitivity            0.5806   0.5806   0.6774\n",
       "Specificity            0.8387   0.7097   0.8710\n",
       "Pos Pred Value         0.6429   0.5000   0.7241\n",
       "Neg Pred Value         0.8000   0.7719   0.8438\n",
       "Prevalence             0.3333   0.3333   0.3333\n",
       "Detection Rate         0.1935   0.1935   0.2258\n",
       "Detection Prevalence   0.3011   0.3871   0.3118\n",
       "Balanced Accuracy      0.7097   0.6452   0.7742"
      ]
     },
     "metadata": {},
     "output_type": "display_data"
    }
   ],
   "source": [
    "rf_model <- randomForest(MentalHealth ~ ., data = train_data)\n",
    "rf_predictions <- predict(rf_model, test_data)\n",
    "rf_conf_matrix <- confusionMatrix(rf_predictions, test_data$MentalHealth)\n",
    "rf_conf_matrix"
   ]
  }
 ],
 "metadata": {
  "kernelspec": {
   "display_name": "R",
   "language": "R",
   "name": "ir"
  },
  "language_info": {
   "codemirror_mode": "r",
   "file_extension": ".r",
   "mimetype": "text/x-r-source",
   "name": "R",
   "pygments_lexer": "r",
   "version": "4.3.2"
  }
 },
 "nbformat": 4,
 "nbformat_minor": 2
}
