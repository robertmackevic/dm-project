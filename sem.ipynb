{
 "cells": [
  {
   "cell_type": "code",
   "execution_count": 14,
   "metadata": {
    "vscode": {
     "languageId": "r"
    }
   },
   "outputs": [],
   "source": [
    "library(dplyr)\n",
    "library(ggplot2)\n",
    "library(tidyr)\n",
    "library(readr)\n",
    "library(forcats)\n",
    "library(reshape2)\n",
    "library(\"dplyr\")\n",
    "library(\"foreign\")\n",
    "library(\"data.table\")\n",
    "library(\"car\")\n",
    "library(semPlot)\n",
    "library(lavaan)\n",
    "library(factoextra)"
   ]
  },
  {
   "cell_type": "code",
   "execution_count": 15,
   "metadata": {
    "vscode": {
     "languageId": "r"
    }
   },
   "outputs": [],
   "source": [
    "data <- read_csv(\"cleanest_of_datas.csv\", show_col_types = FALSE)\n",
    "categorical_columns <- c(\n",
    "  \"Gender\", \"Industry\", \"FamilyStatus\",\n",
    "  \"Location\",  \"ManagingRole\"\n",
    ")\n",
    "numeric_columns <- c(\n",
    "  \"Age\",\"Experience\", \"Commuting\", \"WorkEfficiency\", \"Housework\", \"FamilyTime\",\n",
    "  \"RemoteWorkExtent\", \"RemoteWorkSupport\", \"Productivity\",\n",
    "  \"InterpersonalRelationships\", \"SocialIsolation\", \"Sleep\",\n",
    "  \"EconomicResources\", \"RemoteWorkCompatability\", \"Motivation\",\n",
    "  \"PhysicalEnvironment\", \"Wellbeing\", \"MentalHealth\", \"PhysicalHealth\",\n",
    "  \"Sociability\"\n",
    ")"
   ]
  },
  {
   "cell_type": "code",
   "execution_count": null,
   "metadata": {
    "vscode": {
     "languageId": "r"
    }
   },
   "outputs": [],
   "source": []
  },
  {
   "cell_type": "code",
   "execution_count": 16,
   "metadata": {
    "vscode": {
     "languageId": "r"
    }
   },
   "outputs": [],
   "source": [
    "# scree.plot(data[numeric_columns])"
   ]
  },
  {
   "cell_type": "code",
   "execution_count": 17,
   "metadata": {
    "vscode": {
     "languageId": "r"
    }
   },
   "outputs": [
    {
     "name": "stdout",
     "output_type": "stream",
     "text": [
      "\n",
      "Loadings:\n",
      "                           RC1    RC2    RC7    RC5    RC3    RC4    RC6   \n",
      "SocialIsolation             0.767                                          \n",
      "EconomicResources           0.727                                          \n",
      "RemoteWorkCompatability     0.726                                          \n",
      "Motivation                  0.753                                          \n",
      "PhysicalEnvironment         0.801                                          \n",
      "Wellbeing                   0.782                                          \n",
      "Productivity                       0.710                                   \n",
      "MentalHealth                       0.812                                   \n",
      "PhysicalHealth                     0.790                                   \n",
      "RemoteWorkExtent                          0.804                            \n",
      "RemoteWorkSupport                         0.854                            \n",
      "Commuting                                        0.926                     \n",
      "WorkEfficiency                                          0.968              \n",
      "FamilyTime                                      -0.477 -0.546              \n",
      "Age                                                            0.807       \n",
      "Experience                                                     0.816       \n",
      "Housework                                                             0.891\n",
      "Sleep                                                                -0.628\n",
      "InterpersonalRelationships  0.422                                          \n",
      "Sociability                                                                \n",
      "\n",
      "                 RC1   RC2   RC7   RC5   RC3   RC4   RC6\n",
      "SS loadings    3.814 2.056 1.533 1.510 1.382 1.377 1.235\n",
      "Proportion Var 0.191 0.103 0.077 0.076 0.069 0.069 0.062\n",
      "Cumulative Var 0.191 0.294 0.370 0.446 0.515 0.584 0.645\n"
     ]
    }
   ],
   "source": [
    "library(\"psych\")\n",
    "library(\"psy\")\n",
    "library(\"tidyverse\") \n",
    "\n",
    "correlation_matrix <- cor(data[numeric_columns], use = \"complete.obs\")\n",
    "\n",
    "data <- na.omit(data)\n",
    "\n",
    "\n",
    "pr_ititial <- principal(correlation_matrix,\n",
    "    nfactors = 7,\n",
    "    rotate = \"varimax\"\n",
    ")\n",
    "# h2 - communalities\n",
    "print(pr_ititial$Structure, digits=3, cutoff = 0.4, sort = T)"
   ]
  },
  {
   "cell_type": "code",
   "execution_count": null,
   "metadata": {
    "vscode": {
     "languageId": "r"
    }
   },
   "outputs": [],
   "source": [
    "library(lavaan)\n",
    "\n",
    "model <- '\n",
    "  RemoteWorkChallenges =~ RemoteWorkCompatability + Motivation + WorkEfficiency \n",
    "  WorkOutcomes =~  MentalHealth + PhysicalHealth \n",
    "  RemoteWorkOrganization =~ RemoteWorkExtent + RemoteWorkSupport + RemoteWorkCompatability \n",
    "  WorkLifeBalance =~ Commuting + FamilyTime + RemoteWorkExtent +  Motivation \n",
    "  FamilyStage =~ Age + Commuting + WorkEfficiency + FamilyTime \n",
    "  PerformanceEfficiency =~ WorkEfficiency + FamilyTime + Motivation\n",
    "  HolisticResources =~ MentalHealth + PhysicalEnvironment \n",
    "\n",
    "  # Structural Model\n",
    "  # Direct Effects\n",
    "  MentalHealth ~ RemoteWorkChallenges + WorkLifeBalance + PerformanceEfficiency  \n",
    "  \n",
    "  # Indirect Effects (optional)\n",
    "  WorkOutcomes ~ RemoteWorkChallenges + RemoteWorkOrganization + WorkLifeBalance + HolisticResources + FamilyStage\n",
    "  \n",
    "  # Covariances\n",
    "  WorkOutcomes ~~ RemoteWorkChallenges\n",
    "  PerformanceEfficiency ~~ WorkLifeBalance\n",
    "  RemoteWorkChallenges ~~ Commuting\n",
    "'\n",
    "\n",
    "fit <- sem(model, data = data[numeric_columns])\n",
    "\n",
    "chisq_value <- fitMeasures(fit, \"chisq\")\n",
    "df <- fitMeasures(fit, \"df\")\n",
    "p_value <- fitMeasures(fit, \"pvalue\")\n",
    "\n",
    "# Print the results\n",
    "cat(\"Chi-square value:\", chisq_value, \"\\n\")\n",
    "cat(\"Degrees of freedom:\", df, \"\\n\")\n",
    "cat(\"P-value:\", p_value, \"\\n\")\n",
    "\n",
    "summary(fit, fit.measures = TRUE)\n",
    "\n",
    "varTable(fit)"
   ]
  },
  {
   "cell_type": "code",
   "execution_count": null,
   "metadata": {
    "vscode": {
     "languageId": "r"
    }
   },
   "outputs": [],
   "source": []
  },
  {
   "cell_type": "code",
   "execution_count": 19,
   "metadata": {
    "vscode": {
     "languageId": "r"
    }
   },
   "outputs": [
    {
     "data": {
      "image/png": "[encoded data removed]",
      "text/plain": [
       "Plot with title \"\""
      ]
     },
     "metadata": {
      "image/png": {
       "height": 420,
       "width": 420
      }
     },
     "output_type": "display_data"
    }
   ],
   "source": [
    "library(semPlot)\n",
    "\n",
    "semPaths(fit, whatLabels = \"std\", layout = \"spring\", edge.color = \"black\", \n",
    "         title = TRUE, nCharNodes = 6)"
   ]
  }
 ],
 "metadata": {
  "kernelspec": {
   "display_name": "R",
   "language": "R",
   "name": "ir"
  },
  "language_info": {
   "codemirror_mode": "r",
   "file_extension": ".r",
   "mimetype": "text/x-r-source",
   "name": "R",
   "pygments_lexer": "r",
   "version": "4.3.1"
  }
 },
 "nbformat": 4,
 "nbformat_minor": 2
}
